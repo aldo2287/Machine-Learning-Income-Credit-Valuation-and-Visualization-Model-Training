{
 "cells": [
  {
   "cell_type": "code",
   "execution_count": 27,
   "metadata": {},
   "outputs": [],
   "source": [
    "import os\n",
    "import sys\n",
    "\n",
    "os.environ[\"JAVA_HOME\"] = \"JDK 8\"\n",
    "os.environ[\"PYSPARK_PYTHON\"] = sys.executable\n",
    "os.environ[\"PYSPARK_DRIVER_PYTHON\"] = sys.executable"
   ]
  },
  {
   "cell_type": "code",
   "execution_count": 28,
   "metadata": {},
   "outputs": [],
   "source": [
    "from pyspark.sql import SparkSession\n",
    "from pyspark.sql.functions import udf\n",
    "import pyspark.sql.functions as F\n",
    "import pyspark.sql.types as T\n",
    "from pyspark.sql.types import IntegerType\n",
    "from pyspark.ml.feature import Tokenizer, StopWordsRemover, CountVectorizer, OneHotEncoder, VectorAssembler, StringIndexer, IDF,HashingTF\n",
    "from pyspark.ml.classification import LogisticRegression\n",
    "from pyspark.ml.regression import LinearRegression\n",
    "from pyspark.ml.evaluation import BinaryClassificationEvaluator, RegressionEvaluator\n",
    "from pyspark.ml import Pipeline\n",
    "from pyspark.ml.tuning import CrossValidator,TrainValidationSplit, ParamGridBuilder\n",
    "from pyspark.sql.functions import col, sum\n",
    "from pyspark.sql.functions import abs\n",
    "from pyspark.sql.functions import date_sub, current_date, lit\n",
    "from pyspark.sql.functions import when\n",
    "from pyspark.sql.functions import round\n",
    "from pyspark.ml.regression import RandomForestRegressor\n",
    "from pyspark.ml.evaluation import RegressionEvaluator"
   ]
  },
  {
   "cell_type": "code",
   "execution_count": 29,
   "metadata": {},
   "outputs": [
    {
     "name": "stdout",
     "output_type": "stream",
     "text": [
      "+-------+------+---------+-------------+--------+-------------+--------------------+--------------------+--------------------+-----------------+--------------+-------------+------------+----------+-----+--------+---------------+--------------+\n",
      "| Ind_ID|GENDER|Car_Owner|Propert_Owner|CHILDREN|Annual_income|         Type_Income|           EDUCATION|      Marital_status|     Housing_type|Birthday_count|Employed_days|Mobile_phone|Work_Phone|Phone|EMAIL_ID|Type_Occupation|Family_Members|\n",
      "+-------+------+---------+-------------+--------+-------------+--------------------+--------------------+--------------------+-----------------+--------------+-------------+------------+----------+-----+--------+---------------+--------------+\n",
      "|5008827|     M|        Y|            Y|       0|     180000.0|           Pensioner|    Higher education|             Married|House / apartment|        -18772|       365243|           1|         0|    0|       0|           NULL|             2|\n",
      "|5009744|     F|        Y|            N|       0|     315000.0|Commercial associate|    Higher education|             Married|House / apartment|        -13557|         -586|           1|         1|    1|       0|           NULL|             2|\n",
      "|5009746|     F|        Y|            N|       0|     315000.0|Commercial associate|    Higher education|             Married|House / apartment|          NULL|         -586|           1|         1|    1|       0|           NULL|             2|\n",
      "|5009749|     F|        Y|            N|       0|         NULL|Commercial associate|    Higher education|             Married|House / apartment|        -13557|         -586|           1|         1|    1|       0|           NULL|             2|\n",
      "|5009752|     F|        Y|            N|       0|     315000.0|Commercial associate|    Higher education|             Married|House / apartment|        -13557|         -586|           1|         1|    1|       0|           NULL|             2|\n",
      "|5009753|  NULL|        Y|            N|       0|     315000.0|           Pensioner|    Higher education|             Married|House / apartment|        -13557|         -586|           1|         1|    1|       0|           NULL|             2|\n",
      "|5009754|     F|        Y|            N|       0|     315000.0|Commercial associate|    Higher education|             Married|House / apartment|        -13557|         -586|           1|         1|    1|       0|           NULL|             2|\n",
      "|5009894|     F|        N|            N|       0|     180000.0|           Pensioner|Secondary / secon...|             Married|House / apartment|        -22134|       365243|           1|         0|    0|       0|           NULL|             2|\n",
      "|5010864|     M|        Y|            Y|       1|     450000.0|Commercial associate|Secondary / secon...|             Married|House / apartment|        -18173|         -678|           1|         0|    1|       1|     Core staff|             3|\n",
      "|5010868|     M|        Y|            Y|       1|     450000.0|           Pensioner|Secondary / secon...|             Married|House / apartment|        -18173|         -678|           1|         0|    1|       1|     Core staff|             3|\n",
      "|5010869|     M|        Y|            Y|       1|     450000.0|Commercial associate|Secondary / secon...|Single / not married|House / apartment|        -18173|         -678|           1|         0|    1|       1|     Core staff|             1|\n",
      "|5018498|     F|        Y|            Y|       0|      90000.0|             Working|Secondary / secon...|             Married|House / apartment|        -18950|        -1002|           1|         1|    1|       0|  Cooking staff|             2|\n",
      "|5018501|     F|        Y|            Y|       0|         NULL|             Working|Secondary / secon...|             Married|House / apartment|        -18950|        -1002|           1|         1|    1|       0|  Cooking staff|             2|\n",
      "|5018503|     F|        Y|            Y|       0|      90000.0|             Working|Secondary / secon...|             Married|House / apartment|        -18950|        -1002|           1|         1|    1|       0|  Cooking staff|             2|\n",
      "|5021303|     M|        N|            N|       1|     472500.0|           Pensioner|    Higher education|             Married|     With parents|         -8907|         -913|           1|         0|    0|       1|           NULL|             3|\n",
      "|5021310|     M|        N|            Y|       0|     270000.0|             Working|Secondary / secon...|             Married|House / apartment|        -16896|         -248|           1|         0|    0|       0|       Laborers|             2|\n",
      "|5021314|     M|        N|            Y|       0|     270000.0|             Working|Secondary / secon...|Single / not married|House / apartment|        -16896|         -248|           1|         0|    0|       0|       Laborers|             2|\n",
      "|5021430|     F|        N|            Y|       0|     126000.0|Commercial associate|    Higher education|Single / not married|House / apartment|        -18907|        -2470|           1|         0|    0|       0|    Sales staff|             1|\n",
      "|5021431|     F|        N|            Y|       0|     126000.0|Commercial associate|    Higher education|Single / not married|House / apartment|        -18907|        -2470|           1|         0|    0|       0|    Sales staff|             1|\n",
      "|5021998|     M|        N|            Y|       0|      90000.0|           Pensioner|Secondary / secon...|             Married|House / apartment|        -18863|        -1644|           1|         0|    0|       1|           NULL|             2|\n",
      "+-------+------+---------+-------------+--------+-------------+--------------------+--------------------+--------------------+-----------------+--------------+-------------+------------+----------+-----+--------+---------------+--------------+\n",
      "only showing top 20 rows\n",
      "\n"
     ]
    }
   ],
   "source": [
    "spark = SparkSession.builder.appName(\"credit_model\").getOrCreate()\n",
    "\n",
    "credit_model = \"Credit_card.csv\"\n",
    "\n",
    "credit_df = spark.read.csv(credit_model, header=True, inferSchema=True)\n",
    "\n",
    "credit_df.show()"
   ]
  },
  {
   "cell_type": "markdown",
   "metadata": {},
   "source": [
    "counting null values to determine drop and next manipulations for the based analyisis "
   ]
  },
  {
   "cell_type": "code",
   "execution_count": 30,
   "metadata": {},
   "outputs": [
    {
     "name": "stdout",
     "output_type": "stream",
     "text": [
      "+------+------+---------+-------------+--------+-------------+-----------+---------+--------------+------------+--------------+-------------+------------+----------+-----+--------+---------------+--------------+\n",
      "|Ind_ID|GENDER|Car_Owner|Propert_Owner|CHILDREN|Annual_income|Type_Income|EDUCATION|Marital_status|Housing_type|Birthday_count|Employed_days|Mobile_phone|Work_Phone|Phone|EMAIL_ID|Type_Occupation|Family_Members|\n",
      "+------+------+---------+-------------+--------+-------------+-----------+---------+--------------+------------+--------------+-------------+------------+----------+-----+--------+---------------+--------------+\n",
      "|     0|     7|        0|            0|       0|           23|          0|        0|             0|           0|            22|            0|           0|         0|    0|       0|            488|             0|\n",
      "+------+------+---------+-------------+--------+-------------+-----------+---------+--------------+------------+--------------+-------------+------------+----------+-----+--------+---------------+--------------+\n",
      "\n"
     ]
    }
   ],
   "source": [
    "null_counts = credit_df.select([sum(col(c).isNull().cast(\"int\")).alias(c) for c in credit_df.columns])\n",
    "null_counts.show()"
   ]
  },
  {
   "cell_type": "markdown",
   "metadata": {},
   "source": [
    "Handle missing values, particularly in the Type_Occupation column - considering an high number of null"
   ]
  },
  {
   "cell_type": "code",
   "execution_count": 31,
   "metadata": {},
   "outputs": [
    {
     "name": "stdout",
     "output_type": "stream",
     "text": [
      "+-------+------+---------+-------------+--------+-------------+--------------------+--------------------+--------------------+-----------------+--------------+-------------+------------+----------+-----+--------+---------------+--------------+\n",
      "| Ind_ID|GENDER|Car_Owner|Propert_Owner|CHILDREN|Annual_income|         Type_Income|           EDUCATION|      Marital_status|     Housing_type|Birthday_count|Employed_days|Mobile_phone|Work_Phone|Phone|EMAIL_ID|Type_Occupation|Family_Members|\n",
      "+-------+------+---------+-------------+--------+-------------+--------------------+--------------------+--------------------+-----------------+--------------+-------------+------------+----------+-----+--------+---------------+--------------+\n",
      "|5008827|     M|        Y|            Y|       0|     180000.0|           Pensioner|    Higher education|             Married|House / apartment|        -18772|       365243|           1|         0|    0|       0|             NA|             2|\n",
      "|5009744|     F|        Y|            N|       0|     315000.0|Commercial associate|    Higher education|             Married|House / apartment|        -13557|         -586|           1|         1|    1|       0|             NA|             2|\n",
      "|5009746|     F|        Y|            N|       0|     315000.0|Commercial associate|    Higher education|             Married|House / apartment|          NULL|         -586|           1|         1|    1|       0|             NA|             2|\n",
      "|5009749|     F|        Y|            N|       0|         NULL|Commercial associate|    Higher education|             Married|House / apartment|        -13557|         -586|           1|         1|    1|       0|             NA|             2|\n",
      "|5009752|     F|        Y|            N|       0|     315000.0|Commercial associate|    Higher education|             Married|House / apartment|        -13557|         -586|           1|         1|    1|       0|             NA|             2|\n",
      "|5009753|  NULL|        Y|            N|       0|     315000.0|           Pensioner|    Higher education|             Married|House / apartment|        -13557|         -586|           1|         1|    1|       0|             NA|             2|\n",
      "|5009754|     F|        Y|            N|       0|     315000.0|Commercial associate|    Higher education|             Married|House / apartment|        -13557|         -586|           1|         1|    1|       0|             NA|             2|\n",
      "|5009894|     F|        N|            N|       0|     180000.0|           Pensioner|Secondary / secon...|             Married|House / apartment|        -22134|       365243|           1|         0|    0|       0|             NA|             2|\n",
      "|5010864|     M|        Y|            Y|       1|     450000.0|Commercial associate|Secondary / secon...|             Married|House / apartment|        -18173|         -678|           1|         0|    1|       1|     Core staff|             3|\n",
      "|5010868|     M|        Y|            Y|       1|     450000.0|           Pensioner|Secondary / secon...|             Married|House / apartment|        -18173|         -678|           1|         0|    1|       1|     Core staff|             3|\n",
      "|5010869|     M|        Y|            Y|       1|     450000.0|Commercial associate|Secondary / secon...|Single / not married|House / apartment|        -18173|         -678|           1|         0|    1|       1|     Core staff|             1|\n",
      "|5018498|     F|        Y|            Y|       0|      90000.0|             Working|Secondary / secon...|             Married|House / apartment|        -18950|        -1002|           1|         1|    1|       0|  Cooking staff|             2|\n",
      "|5018501|     F|        Y|            Y|       0|         NULL|             Working|Secondary / secon...|             Married|House / apartment|        -18950|        -1002|           1|         1|    1|       0|  Cooking staff|             2|\n",
      "|5018503|     F|        Y|            Y|       0|      90000.0|             Working|Secondary / secon...|             Married|House / apartment|        -18950|        -1002|           1|         1|    1|       0|  Cooking staff|             2|\n",
      "|5021303|     M|        N|            N|       1|     472500.0|           Pensioner|    Higher education|             Married|     With parents|         -8907|         -913|           1|         0|    0|       1|             NA|             3|\n",
      "|5021310|     M|        N|            Y|       0|     270000.0|             Working|Secondary / secon...|             Married|House / apartment|        -16896|         -248|           1|         0|    0|       0|       Laborers|             2|\n",
      "|5021314|     M|        N|            Y|       0|     270000.0|             Working|Secondary / secon...|Single / not married|House / apartment|        -16896|         -248|           1|         0|    0|       0|       Laborers|             2|\n",
      "|5021430|     F|        N|            Y|       0|     126000.0|Commercial associate|    Higher education|Single / not married|House / apartment|        -18907|        -2470|           1|         0|    0|       0|    Sales staff|             1|\n",
      "|5021431|     F|        N|            Y|       0|     126000.0|Commercial associate|    Higher education|Single / not married|House / apartment|        -18907|        -2470|           1|         0|    0|       0|    Sales staff|             1|\n",
      "|5021998|     M|        N|            Y|       0|      90000.0|           Pensioner|Secondary / secon...|             Married|House / apartment|        -18863|        -1644|           1|         0|    0|       1|             NA|             2|\n",
      "+-------+------+---------+-------------+--------+-------------+--------------------+--------------------+--------------------+-----------------+--------------+-------------+------------+----------+-----+--------+---------------+--------------+\n",
      "only showing top 20 rows\n",
      "\n"
     ]
    }
   ],
   "source": [
    "#assigning NA to missing values\n",
    "\n",
    "credit_df = credit_df.fillna({'Type_Occupation': 'NA'})\n",
    "credit_df.show()"
   ]
  },
  {
   "cell_type": "markdown",
   "metadata": {},
   "source": [
    "verfining maniplation in coloumn "
   ]
  },
  {
   "cell_type": "code",
   "execution_count": 32,
   "metadata": {},
   "outputs": [
    {
     "name": "stdout",
     "output_type": "stream",
     "text": [
      "+------+------+---------+-------------+--------+-------------+-----------+---------+--------------+------------+--------------+-------------+------------+----------+-----+--------+---------------+--------------+\n",
      "|Ind_ID|GENDER|Car_Owner|Propert_Owner|CHILDREN|Annual_income|Type_Income|EDUCATION|Marital_status|Housing_type|Birthday_count|Employed_days|Mobile_phone|Work_Phone|Phone|EMAIL_ID|Type_Occupation|Family_Members|\n",
      "+------+------+---------+-------------+--------+-------------+-----------+---------+--------------+------------+--------------+-------------+------------+----------+-----+--------+---------------+--------------+\n",
      "|     0|     7|        0|            0|       0|           23|          0|        0|             0|           0|            22|            0|           0|         0|    0|       0|              0|             0|\n",
      "+------+------+---------+-------------+--------+-------------+-----------+---------+--------------+------------+--------------+-------------+------------+----------+-----+--------+---------------+--------------+\n",
      "\n"
     ]
    }
   ],
   "source": [
    "null_counts = credit_df.select([sum(col(c).isNull().cast(\"int\")).alias(c) for c in credit_df.columns])\n",
    "null_counts.show()"
   ]
  },
  {
   "cell_type": "markdown",
   "metadata": {},
   "source": [
    "Handle missing values by dropping remaining null values of rows"
   ]
  },
  {
   "cell_type": "code",
   "execution_count": 33,
   "metadata": {},
   "outputs": [
    {
     "name": "stdout",
     "output_type": "stream",
     "text": [
      "+-------+------+---------+-------------+--------+-------------+--------------------+--------------------+--------------------+-----------------+--------------+-------------+------------+----------+-----+--------+---------------+--------------+\n",
      "| Ind_ID|GENDER|Car_Owner|Propert_Owner|CHILDREN|Annual_income|         Type_Income|           EDUCATION|      Marital_status|     Housing_type|Birthday_count|Employed_days|Mobile_phone|Work_Phone|Phone|EMAIL_ID|Type_Occupation|Family_Members|\n",
      "+-------+------+---------+-------------+--------+-------------+--------------------+--------------------+--------------------+-----------------+--------------+-------------+------------+----------+-----+--------+---------------+--------------+\n",
      "|5008827|     M|        Y|            Y|       0|     180000.0|           Pensioner|    Higher education|             Married|House / apartment|        -18772|       365243|           1|         0|    0|       0|             NA|             2|\n",
      "|5009744|     F|        Y|            N|       0|     315000.0|Commercial associate|    Higher education|             Married|House / apartment|        -13557|         -586|           1|         1|    1|       0|             NA|             2|\n",
      "|5009752|     F|        Y|            N|       0|     315000.0|Commercial associate|    Higher education|             Married|House / apartment|        -13557|         -586|           1|         1|    1|       0|             NA|             2|\n",
      "|5009754|     F|        Y|            N|       0|     315000.0|Commercial associate|    Higher education|             Married|House / apartment|        -13557|         -586|           1|         1|    1|       0|             NA|             2|\n",
      "|5009894|     F|        N|            N|       0|     180000.0|           Pensioner|Secondary / secon...|             Married|House / apartment|        -22134|       365243|           1|         0|    0|       0|             NA|             2|\n",
      "|5010864|     M|        Y|            Y|       1|     450000.0|Commercial associate|Secondary / secon...|             Married|House / apartment|        -18173|         -678|           1|         0|    1|       1|     Core staff|             3|\n",
      "|5010868|     M|        Y|            Y|       1|     450000.0|           Pensioner|Secondary / secon...|             Married|House / apartment|        -18173|         -678|           1|         0|    1|       1|     Core staff|             3|\n",
      "|5010869|     M|        Y|            Y|       1|     450000.0|Commercial associate|Secondary / secon...|Single / not married|House / apartment|        -18173|         -678|           1|         0|    1|       1|     Core staff|             1|\n",
      "|5018498|     F|        Y|            Y|       0|      90000.0|             Working|Secondary / secon...|             Married|House / apartment|        -18950|        -1002|           1|         1|    1|       0|  Cooking staff|             2|\n",
      "|5018503|     F|        Y|            Y|       0|      90000.0|             Working|Secondary / secon...|             Married|House / apartment|        -18950|        -1002|           1|         1|    1|       0|  Cooking staff|             2|\n",
      "|5021303|     M|        N|            N|       1|     472500.0|           Pensioner|    Higher education|             Married|     With parents|         -8907|         -913|           1|         0|    0|       1|             NA|             3|\n",
      "|5021310|     M|        N|            Y|       0|     270000.0|             Working|Secondary / secon...|             Married|House / apartment|        -16896|         -248|           1|         0|    0|       0|       Laborers|             2|\n",
      "|5021314|     M|        N|            Y|       0|     270000.0|             Working|Secondary / secon...|Single / not married|House / apartment|        -16896|         -248|           1|         0|    0|       0|       Laborers|             2|\n",
      "|5021430|     F|        N|            Y|       0|     126000.0|Commercial associate|    Higher education|Single / not married|House / apartment|        -18907|        -2470|           1|         0|    0|       0|    Sales staff|             1|\n",
      "|5021431|     F|        N|            Y|       0|     126000.0|Commercial associate|    Higher education|Single / not married|House / apartment|        -18907|        -2470|           1|         0|    0|       0|    Sales staff|             1|\n",
      "|5021998|     M|        N|            Y|       0|      90000.0|           Pensioner|Secondary / secon...|             Married|House / apartment|        -18863|        -1644|           1|         0|    0|       1|             NA|             2|\n",
      "|5022053|     M|        N|            N|       0|     202500.0|             Working|    Higher education|Single / not married|House / apartment|        -12811|        -4327|           1|         0|    0|       0|             NA|             1|\n",
      "|5022617|     M|        Y|            Y|       0|     202500.0|Commercial associate|Secondary / secon...|      Civil marriage|House / apartment|        -12022|        -1674|           1|         0|    0|       1|       Laborers|             2|\n",
      "|5023781|     M|        N|            Y|       0|     157500.0|Commercial associate|    Higher education|      Civil marriage|House / apartment|        -17800|        -1086|           1|         0|    0|       0|    Accountants|             2|\n",
      "|5023831|     F|        N|            Y|       2|     112500.0|Commercial associate|Secondary / secon...|             Married|House / apartment|        -12135|         -925|           1|         0|    0|       0|    Sales staff|             4|\n",
      "+-------+------+---------+-------------+--------+-------------+--------------------+--------------------+--------------------+-----------------+--------------+-------------+------------+----------+-----+--------+---------------+--------------+\n",
      "only showing top 20 rows\n",
      "\n"
     ]
    }
   ],
   "source": [
    "credit_df = credit_df.dropna()\n",
    "credit_df.show()"
   ]
  },
  {
   "cell_type": "code",
   "execution_count": 34,
   "metadata": {},
   "outputs": [
    {
     "name": "stdout",
     "output_type": "stream",
     "text": [
      "+------+------+---------+-------------+--------+-------------+-----------+---------+--------------+------------+--------------+-------------+------------+----------+-----+--------+---------------+--------------+\n",
      "|Ind_ID|GENDER|Car_Owner|Propert_Owner|CHILDREN|Annual_income|Type_Income|EDUCATION|Marital_status|Housing_type|Birthday_count|Employed_days|Mobile_phone|Work_Phone|Phone|EMAIL_ID|Type_Occupation|Family_Members|\n",
      "+------+------+---------+-------------+--------+-------------+-----------+---------+--------------+------------+--------------+-------------+------------+----------+-----+--------+---------------+--------------+\n",
      "|     0|     0|        0|            0|       0|            0|          0|        0|             0|           0|             0|            0|           0|         0|    0|       0|              0|             0|\n",
      "+------+------+---------+-------------+--------+-------------+-----------+---------+--------------+------------+--------------+-------------+------------+----------+-----+--------+---------------+--------------+\n",
      "\n"
     ]
    }
   ],
   "source": [
    "null_counts = credit_df.select([sum(col(c).isNull().cast(\"int\")).alias(c) for c in credit_df.columns])\n",
    "null_counts.show()"
   ]
  },
  {
   "cell_type": "markdown",
   "metadata": {},
   "source": [
    "dropping unecessary colums for the analyisis  - Mobile_phone|Work_Phone|Phone|EMAIL_ID"
   ]
  },
  {
   "cell_type": "code",
   "execution_count": 35,
   "metadata": {},
   "outputs": [
    {
     "name": "stdout",
     "output_type": "stream",
     "text": [
      "+------+---------+-------------+--------+-------------+--------------------+--------------------+--------------------+-----------------+--------------+-------------+---------------+--------------+\n",
      "|GENDER|Car_Owner|Propert_Owner|CHILDREN|Annual_income|         Type_Income|           EDUCATION|      Marital_status|     Housing_type|Birthday_count|Employed_days|Type_Occupation|Family_Members|\n",
      "+------+---------+-------------+--------+-------------+--------------------+--------------------+--------------------+-----------------+--------------+-------------+---------------+--------------+\n",
      "|     M|        Y|            Y|       0|     180000.0|           Pensioner|    Higher education|             Married|House / apartment|        -18772|       365243|             NA|             2|\n",
      "|     F|        Y|            N|       0|     315000.0|Commercial associate|    Higher education|             Married|House / apartment|        -13557|         -586|             NA|             2|\n",
      "|     F|        Y|            N|       0|     315000.0|Commercial associate|    Higher education|             Married|House / apartment|        -13557|         -586|             NA|             2|\n",
      "|     F|        Y|            N|       0|     315000.0|Commercial associate|    Higher education|             Married|House / apartment|        -13557|         -586|             NA|             2|\n",
      "|     F|        N|            N|       0|     180000.0|           Pensioner|Secondary / secon...|             Married|House / apartment|        -22134|       365243|             NA|             2|\n",
      "|     M|        Y|            Y|       1|     450000.0|Commercial associate|Secondary / secon...|             Married|House / apartment|        -18173|         -678|     Core staff|             3|\n",
      "|     M|        Y|            Y|       1|     450000.0|           Pensioner|Secondary / secon...|             Married|House / apartment|        -18173|         -678|     Core staff|             3|\n",
      "|     M|        Y|            Y|       1|     450000.0|Commercial associate|Secondary / secon...|Single / not married|House / apartment|        -18173|         -678|     Core staff|             1|\n",
      "|     F|        Y|            Y|       0|      90000.0|             Working|Secondary / secon...|             Married|House / apartment|        -18950|        -1002|  Cooking staff|             2|\n",
      "|     F|        Y|            Y|       0|      90000.0|             Working|Secondary / secon...|             Married|House / apartment|        -18950|        -1002|  Cooking staff|             2|\n",
      "|     M|        N|            N|       1|     472500.0|           Pensioner|    Higher education|             Married|     With parents|         -8907|         -913|             NA|             3|\n",
      "|     M|        N|            Y|       0|     270000.0|             Working|Secondary / secon...|             Married|House / apartment|        -16896|         -248|       Laborers|             2|\n",
      "|     M|        N|            Y|       0|     270000.0|             Working|Secondary / secon...|Single / not married|House / apartment|        -16896|         -248|       Laborers|             2|\n",
      "|     F|        N|            Y|       0|     126000.0|Commercial associate|    Higher education|Single / not married|House / apartment|        -18907|        -2470|    Sales staff|             1|\n",
      "|     F|        N|            Y|       0|     126000.0|Commercial associate|    Higher education|Single / not married|House / apartment|        -18907|        -2470|    Sales staff|             1|\n",
      "|     M|        N|            Y|       0|      90000.0|           Pensioner|Secondary / secon...|             Married|House / apartment|        -18863|        -1644|             NA|             2|\n",
      "|     M|        N|            N|       0|     202500.0|             Working|    Higher education|Single / not married|House / apartment|        -12811|        -4327|             NA|             1|\n",
      "|     M|        Y|            Y|       0|     202500.0|Commercial associate|Secondary / secon...|      Civil marriage|House / apartment|        -12022|        -1674|       Laborers|             2|\n",
      "|     M|        N|            Y|       0|     157500.0|Commercial associate|    Higher education|      Civil marriage|House / apartment|        -17800|        -1086|    Accountants|             2|\n",
      "|     F|        N|            Y|       2|     112500.0|Commercial associate|Secondary / secon...|             Married|House / apartment|        -12135|         -925|    Sales staff|             4|\n",
      "+------+---------+-------------+--------+-------------+--------------------+--------------------+--------------------+-----------------+--------------+-------------+---------------+--------------+\n",
      "only showing top 20 rows\n",
      "\n"
     ]
    }
   ],
   "source": [
    "credit_df = credit_df.drop(\"Ind_ID\", \"Mobile_phone\", \"Work_phone\", \"Phone\", \"EMAIL_ID\")\n",
    "\n",
    "credit_df.show()"
   ]
  },
  {
   "cell_type": "markdown",
   "metadata": {},
   "source": [
    "Normalise numerical features Birthday_count."
   ]
  },
  {
   "cell_type": "code",
   "execution_count": 36,
   "metadata": {},
   "outputs": [
    {
     "name": "stdout",
     "output_type": "stream",
     "text": [
      "+------+---------+-------------+--------+-------------+--------------------+--------------------+--------------------+-----------------+--------------+-------------+---------------+--------------+\n",
      "|GENDER|Car_Owner|Propert_Owner|CHILDREN|Annual_income|         Type_Income|           EDUCATION|      Marital_status|     Housing_type|Birthday_count|Employed_days|Type_Occupation|Family_Members|\n",
      "+------+---------+-------------+--------+-------------+--------------------+--------------------+--------------------+-----------------+--------------+-------------+---------------+--------------+\n",
      "|     M|        Y|            Y|       0|     180000.0|           Pensioner|    Higher education|             Married|House / apartment|         18772|       365243|             NA|             2|\n",
      "|     F|        Y|            N|       0|     315000.0|Commercial associate|    Higher education|             Married|House / apartment|         13557|         -586|             NA|             2|\n",
      "|     F|        Y|            N|       0|     315000.0|Commercial associate|    Higher education|             Married|House / apartment|         13557|         -586|             NA|             2|\n",
      "|     F|        Y|            N|       0|     315000.0|Commercial associate|    Higher education|             Married|House / apartment|         13557|         -586|             NA|             2|\n",
      "|     F|        N|            N|       0|     180000.0|           Pensioner|Secondary / secon...|             Married|House / apartment|         22134|       365243|             NA|             2|\n",
      "|     M|        Y|            Y|       1|     450000.0|Commercial associate|Secondary / secon...|             Married|House / apartment|         18173|         -678|     Core staff|             3|\n",
      "|     M|        Y|            Y|       1|     450000.0|           Pensioner|Secondary / secon...|             Married|House / apartment|         18173|         -678|     Core staff|             3|\n",
      "|     M|        Y|            Y|       1|     450000.0|Commercial associate|Secondary / secon...|Single / not married|House / apartment|         18173|         -678|     Core staff|             1|\n",
      "|     F|        Y|            Y|       0|      90000.0|             Working|Secondary / secon...|             Married|House / apartment|         18950|        -1002|  Cooking staff|             2|\n",
      "|     F|        Y|            Y|       0|      90000.0|             Working|Secondary / secon...|             Married|House / apartment|         18950|        -1002|  Cooking staff|             2|\n",
      "|     M|        N|            N|       1|     472500.0|           Pensioner|    Higher education|             Married|     With parents|          8907|         -913|             NA|             3|\n",
      "|     M|        N|            Y|       0|     270000.0|             Working|Secondary / secon...|             Married|House / apartment|         16896|         -248|       Laborers|             2|\n",
      "|     M|        N|            Y|       0|     270000.0|             Working|Secondary / secon...|Single / not married|House / apartment|         16896|         -248|       Laborers|             2|\n",
      "|     F|        N|            Y|       0|     126000.0|Commercial associate|    Higher education|Single / not married|House / apartment|         18907|        -2470|    Sales staff|             1|\n",
      "|     F|        N|            Y|       0|     126000.0|Commercial associate|    Higher education|Single / not married|House / apartment|         18907|        -2470|    Sales staff|             1|\n",
      "|     M|        N|            Y|       0|      90000.0|           Pensioner|Secondary / secon...|             Married|House / apartment|         18863|        -1644|             NA|             2|\n",
      "|     M|        N|            N|       0|     202500.0|             Working|    Higher education|Single / not married|House / apartment|         12811|        -4327|             NA|             1|\n",
      "|     M|        Y|            Y|       0|     202500.0|Commercial associate|Secondary / secon...|      Civil marriage|House / apartment|         12022|        -1674|       Laborers|             2|\n",
      "|     M|        N|            Y|       0|     157500.0|Commercial associate|    Higher education|      Civil marriage|House / apartment|         17800|        -1086|    Accountants|             2|\n",
      "|     F|        N|            Y|       2|     112500.0|Commercial associate|Secondary / secon...|             Married|House / apartment|         12135|         -925|    Sales staff|             4|\n",
      "+------+---------+-------------+--------+-------------+--------------------+--------------------+--------------------+-----------------+--------------+-------------+---------------+--------------+\n",
      "only showing top 20 rows\n",
      "\n"
     ]
    }
   ],
   "source": [
    "credit_df = credit_df.withColumn(\"Birthday_count\", abs(col(\"Birthday_count\"))) # transform negative values to positive\n",
    "credit_df.show()"
   ]
  },
  {
   "cell_type": "markdown",
   "metadata": {},
   "source": [
    "consider Birthday_count as number of days"
   ]
  },
  {
   "cell_type": "code",
   "execution_count": 37,
   "metadata": {},
   "outputs": [
    {
     "name": "stdout",
     "output_type": "stream",
     "text": [
      "+------+---------+-------------+--------+-------------+--------------------+--------------------+--------------------+-----------------+--------------+-------------+---------------+--------------+------------------+\n",
      "|GENDER|Car_Owner|Propert_Owner|CHILDREN|Annual_income|         Type_Income|           EDUCATION|      Marital_status|     Housing_type|Birthday_count|Employed_days|Type_Occupation|Family_Members|    Birthday_years|\n",
      "+------+---------+-------------+--------+-------------+--------------------+--------------------+--------------------+-----------------+--------------+-------------+---------------+--------------+------------------+\n",
      "|     M|        Y|            Y|       0|     180000.0|           Pensioner|    Higher education|             Married|House / apartment|         18772|       365243|             NA|             2| 51.43013698630137|\n",
      "|     F|        Y|            N|       0|     315000.0|Commercial associate|    Higher education|             Married|House / apartment|         13557|         -586|             NA|             2| 37.14246575342466|\n",
      "|     F|        Y|            N|       0|     315000.0|Commercial associate|    Higher education|             Married|House / apartment|         13557|         -586|             NA|             2| 37.14246575342466|\n",
      "|     F|        Y|            N|       0|     315000.0|Commercial associate|    Higher education|             Married|House / apartment|         13557|         -586|             NA|             2| 37.14246575342466|\n",
      "|     F|        N|            N|       0|     180000.0|           Pensioner|Secondary / secon...|             Married|House / apartment|         22134|       365243|             NA|             2| 60.64109589041096|\n",
      "|     M|        Y|            Y|       1|     450000.0|Commercial associate|Secondary / secon...|             Married|House / apartment|         18173|         -678|     Core staff|             3| 49.78904109589041|\n",
      "|     M|        Y|            Y|       1|     450000.0|           Pensioner|Secondary / secon...|             Married|House / apartment|         18173|         -678|     Core staff|             3| 49.78904109589041|\n",
      "|     M|        Y|            Y|       1|     450000.0|Commercial associate|Secondary / secon...|Single / not married|House / apartment|         18173|         -678|     Core staff|             1| 49.78904109589041|\n",
      "|     F|        Y|            Y|       0|      90000.0|             Working|Secondary / secon...|             Married|House / apartment|         18950|        -1002|  Cooking staff|             2|51.917808219178085|\n",
      "|     F|        Y|            Y|       0|      90000.0|             Working|Secondary / secon...|             Married|House / apartment|         18950|        -1002|  Cooking staff|             2|51.917808219178085|\n",
      "|     M|        N|            N|       1|     472500.0|           Pensioner|    Higher education|             Married|     With parents|          8907|         -913|             NA|             3|  24.4027397260274|\n",
      "|     M|        N|            Y|       0|     270000.0|             Working|Secondary / secon...|             Married|House / apartment|         16896|         -248|       Laborers|             2| 46.29041095890411|\n",
      "|     M|        N|            Y|       0|     270000.0|             Working|Secondary / secon...|Single / not married|House / apartment|         16896|         -248|       Laborers|             2| 46.29041095890411|\n",
      "|     F|        N|            Y|       0|     126000.0|Commercial associate|    Higher education|Single / not married|House / apartment|         18907|        -2470|    Sales staff|             1|              51.8|\n",
      "|     F|        N|            Y|       0|     126000.0|Commercial associate|    Higher education|Single / not married|House / apartment|         18907|        -2470|    Sales staff|             1|              51.8|\n",
      "|     M|        N|            Y|       0|      90000.0|           Pensioner|Secondary / secon...|             Married|House / apartment|         18863|        -1644|             NA|             2|51.679452054794524|\n",
      "|     M|        N|            N|       0|     202500.0|             Working|    Higher education|Single / not married|House / apartment|         12811|        -4327|             NA|             1|  35.0986301369863|\n",
      "|     M|        Y|            Y|       0|     202500.0|Commercial associate|Secondary / secon...|      Civil marriage|House / apartment|         12022|        -1674|       Laborers|             2| 32.93698630136986|\n",
      "|     M|        N|            Y|       0|     157500.0|Commercial associate|    Higher education|      Civil marriage|House / apartment|         17800|        -1086|    Accountants|             2| 48.76712328767123|\n",
      "|     F|        N|            Y|       2|     112500.0|Commercial associate|Secondary / secon...|             Married|House / apartment|         12135|         -925|    Sales staff|             4| 33.24657534246575|\n",
      "+------+---------+-------------+--------+-------------+--------------------+--------------------+--------------------+-----------------+--------------+-------------+---------------+--------------+------------------+\n",
      "only showing top 20 rows\n",
      "\n"
     ]
    }
   ],
   "source": [
    "credit_df = credit_df.withColumn(\"Birthday_years\", col(\"Birthday_count\") / 365)\n",
    "credit_df.show()"
   ]
  },
  {
   "cell_type": "markdown",
   "metadata": {},
   "source": [
    "DATE CONVERSION"
   ]
  },
  {
   "cell_type": "code",
   "execution_count": 38,
   "metadata": {},
   "outputs": [
    {
     "name": "stdout",
     "output_type": "stream",
     "text": [
      "+------+---------+-------------+--------+-------------+--------------------+--------------------+--------------------+-----------------+--------------+-------------+---------------+--------------+------------------+-------------+\n",
      "|GENDER|Car_Owner|Propert_Owner|CHILDREN|Annual_income|         Type_Income|           EDUCATION|      Marital_status|     Housing_type|Birthday_count|Employed_days|Type_Occupation|Family_Members|    Birthday_years|Birthday_date|\n",
      "+------+---------+-------------+--------+-------------+--------------------+--------------------+--------------------+-----------------+--------------+-------------+---------------+--------------+------------------+-------------+\n",
      "|     M|        Y|            Y|       0|     180000.0|           Pensioner|    Higher education|             Married|House / apartment|         18772|       365243|             NA|             2| 51.43013698630137|   1973-10-02|\n",
      "|     F|        Y|            N|       0|     315000.0|Commercial associate|    Higher education|             Married|House / apartment|         13557|         -586|             NA|             2| 37.14246575342466|   1988-01-12|\n",
      "|     F|        Y|            N|       0|     315000.0|Commercial associate|    Higher education|             Married|House / apartment|         13557|         -586|             NA|             2| 37.14246575342466|   1988-01-12|\n",
      "|     F|        Y|            N|       0|     315000.0|Commercial associate|    Higher education|             Married|House / apartment|         13557|         -586|             NA|             2| 37.14246575342466|   1988-01-12|\n",
      "|     F|        N|            N|       0|     180000.0|           Pensioner|Secondary / secon...|             Married|House / apartment|         22134|       365243|             NA|             2| 60.64109589041096|   1964-07-19|\n",
      "|     M|        Y|            Y|       1|     450000.0|Commercial associate|Secondary / secon...|             Married|House / apartment|         18173|         -678|     Core staff|             3| 49.78904109589041|   1975-05-24|\n",
      "|     M|        Y|            Y|       1|     450000.0|           Pensioner|Secondary / secon...|             Married|House / apartment|         18173|         -678|     Core staff|             3| 49.78904109589041|   1975-05-24|\n",
      "|     M|        Y|            Y|       1|     450000.0|Commercial associate|Secondary / secon...|Single / not married|House / apartment|         18173|         -678|     Core staff|             1| 49.78904109589041|   1975-05-24|\n",
      "|     F|        Y|            Y|       0|      90000.0|             Working|Secondary / secon...|             Married|House / apartment|         18950|        -1002|  Cooking staff|             2|51.917808219178085|   1973-04-07|\n",
      "|     F|        Y|            Y|       0|      90000.0|             Working|Secondary / secon...|             Married|House / apartment|         18950|        -1002|  Cooking staff|             2|51.917808219178085|   1973-04-07|\n",
      "|     M|        N|            N|       1|     472500.0|           Pensioner|    Higher education|             Married|     With parents|          8907|         -913|             NA|             3|  24.4027397260274|   2000-10-05|\n",
      "|     M|        N|            Y|       0|     270000.0|             Working|Secondary / secon...|             Married|House / apartment|         16896|         -248|       Laborers|             2| 46.29041095890411|   1978-11-21|\n",
      "|     M|        N|            Y|       0|     270000.0|             Working|Secondary / secon...|Single / not married|House / apartment|         16896|         -248|       Laborers|             2| 46.29041095890411|   1978-11-21|\n",
      "|     F|        N|            Y|       0|     126000.0|Commercial associate|    Higher education|Single / not married|House / apartment|         18907|        -2470|    Sales staff|             1|              51.8|   1973-05-20|\n",
      "|     F|        N|            Y|       0|     126000.0|Commercial associate|    Higher education|Single / not married|House / apartment|         18907|        -2470|    Sales staff|             1|              51.8|   1973-05-20|\n",
      "|     M|        N|            Y|       0|      90000.0|           Pensioner|Secondary / secon...|             Married|House / apartment|         18863|        -1644|             NA|             2|51.679452054794524|   1973-07-03|\n",
      "|     M|        N|            N|       0|     202500.0|             Working|    Higher education|Single / not married|House / apartment|         12811|        -4327|             NA|             1|  35.0986301369863|   1990-01-27|\n",
      "|     M|        Y|            Y|       0|     202500.0|Commercial associate|Secondary / secon...|      Civil marriage|House / apartment|         12022|        -1674|       Laborers|             2| 32.93698630136986|   1992-03-26|\n",
      "|     M|        N|            Y|       0|     157500.0|Commercial associate|    Higher education|      Civil marriage|House / apartment|         17800|        -1086|    Accountants|             2| 48.76712328767123|   1976-05-31|\n",
      "|     F|        N|            Y|       2|     112500.0|Commercial associate|Secondary / secon...|             Married|House / apartment|         12135|         -925|    Sales staff|             4| 33.24657534246575|   1991-12-04|\n",
      "+------+---------+-------------+--------+-------------+--------------------+--------------------+--------------------+-----------------+--------------+-------------+---------------+--------------+------------------+-------------+\n",
      "only showing top 20 rows\n",
      "\n"
     ]
    }
   ],
   "source": [
    "# Define today's date\n",
    "today_date = lit(\"2025-02-23\")\n",
    "\n",
    "# Calculate the past date based on Birthday_count\n",
    "credit_df = credit_df.withColumn(\"Birthday_date\", date_sub(today_date, col(\"Birthday_count\")))\n",
    "credit_df.show()"
   ]
  },
  {
   "cell_type": "code",
   "execution_count": 39,
   "metadata": {},
   "outputs": [
    {
     "name": "stdout",
     "output_type": "stream",
     "text": [
      "+------+---------+-------------+--------+-------------+--------------------+--------------------+--------------------+-----------------+--------------+-------------+---------------+--------------+------------------+-------------+\n",
      "|GENDER|Car_Owner|Propert_Owner|CHILDREN|Annual_income|         Type_Income|           EDUCATION|      Marital_status|     Housing_type|Birthday_count|Employed_days|Type_Occupation|Family_Members|    Birthday_years|Birthday_date|\n",
      "+------+---------+-------------+--------+-------------+--------------------+--------------------+--------------------+-----------------+--------------+-------------+---------------+--------------+------------------+-------------+\n",
      "|     M|        Y|            Y|       0|     180000.0|           Pensioner|    Higher education|             Married|House / apartment|         18772|       365243|             NA|             2| 51.43013698630137|   1973-10-02|\n",
      "|     F|        Y|            N|       0|     315000.0|Commercial associate|    Higher education|             Married|House / apartment|         13557|         -586|             NA|             2| 37.14246575342466|   1988-01-12|\n",
      "|     F|        Y|            N|       0|     315000.0|Commercial associate|    Higher education|             Married|House / apartment|         13557|         -586|             NA|             2| 37.14246575342466|   1988-01-12|\n",
      "|     F|        Y|            N|       0|     315000.0|Commercial associate|    Higher education|             Married|House / apartment|         13557|         -586|             NA|             2| 37.14246575342466|   1988-01-12|\n",
      "|     F|        N|            N|       0|     180000.0|           Pensioner|Secondary / secon...|             Married|House / apartment|         22134|       365243|             NA|             2| 60.64109589041096|   1964-07-19|\n",
      "|     M|        Y|            Y|       1|     450000.0|Commercial associate|Secondary / secon...|             Married|House / apartment|         18173|         -678|     Core staff|             3| 49.78904109589041|   1975-05-24|\n",
      "|     M|        Y|            Y|       1|     450000.0|           Pensioner|Secondary / secon...|             Married|House / apartment|         18173|         -678|     Core staff|             3| 49.78904109589041|   1975-05-24|\n",
      "|     M|        Y|            Y|       1|     450000.0|Commercial associate|Secondary / secon...|Single / not married|House / apartment|         18173|         -678|     Core staff|             1| 49.78904109589041|   1975-05-24|\n",
      "|     F|        Y|            Y|       0|      90000.0|             Working|Secondary / secon...|             Married|House / apartment|         18950|        -1002|  Cooking staff|             2|51.917808219178085|   1973-04-07|\n",
      "|     F|        Y|            Y|       0|      90000.0|             Working|Secondary / secon...|             Married|House / apartment|         18950|        -1002|  Cooking staff|             2|51.917808219178085|   1973-04-07|\n",
      "|     M|        N|            N|       1|     472500.0|           Pensioner|    Higher education|             Married|     With parents|          8907|         -913|             NA|             3|  24.4027397260274|   2000-10-05|\n",
      "|     M|        N|            Y|       0|     270000.0|             Working|Secondary / secon...|             Married|House / apartment|         16896|         -248|       Laborers|             2| 46.29041095890411|   1978-11-21|\n",
      "|     M|        N|            Y|       0|     270000.0|             Working|Secondary / secon...|Single / not married|House / apartment|         16896|         -248|       Laborers|             2| 46.29041095890411|   1978-11-21|\n",
      "|     F|        N|            Y|       0|     126000.0|Commercial associate|    Higher education|Single / not married|House / apartment|         18907|        -2470|    Sales staff|             1|              51.8|   1973-05-20|\n",
      "|     F|        N|            Y|       0|     126000.0|Commercial associate|    Higher education|Single / not married|House / apartment|         18907|        -2470|    Sales staff|             1|              51.8|   1973-05-20|\n",
      "|     M|        N|            Y|       0|      90000.0|           Pensioner|Secondary / secon...|             Married|House / apartment|         18863|        -1644|             NA|             2|51.679452054794524|   1973-07-03|\n",
      "|     M|        N|            N|       0|     202500.0|             Working|    Higher education|Single / not married|House / apartment|         12811|        -4327|             NA|             1|  35.0986301369863|   1990-01-27|\n",
      "|     M|        Y|            Y|       0|     202500.0|Commercial associate|Secondary / secon...|      Civil marriage|House / apartment|         12022|        -1674|       Laborers|             2| 32.93698630136986|   1992-03-26|\n",
      "|     M|        N|            Y|       0|     157500.0|Commercial associate|    Higher education|      Civil marriage|House / apartment|         17800|        -1086|    Accountants|             2| 48.76712328767123|   1976-05-31|\n",
      "|     F|        N|            Y|       2|     112500.0|Commercial associate|Secondary / secon...|             Married|House / apartment|         12135|         -925|    Sales staff|             4| 33.24657534246575|   1991-12-04|\n",
      "+------+---------+-------------+--------+-------------+--------------------+--------------------+--------------------+-----------------+--------------+-------------+---------------+--------------+------------------+-------------+\n",
      "only showing top 20 rows\n",
      "\n"
     ]
    }
   ],
   "source": [
    "credit_df = credit_df.withColumn(\"Birthday_date\", F.to_date(F.col(\"Birthday_date\"), \"dd-MM-yyyy\"))\n",
    "credit_df.show()"
   ]
  },
  {
   "cell_type": "code",
   "execution_count": 40,
   "metadata": {},
   "outputs": [
    {
     "name": "stdout",
     "output_type": "stream",
     "text": [
      "+------+---------+-------------+--------+-------------+--------------------+--------------------+--------------------+-----------------+--------------+-------------+---------------+--------------+------------------+-------------+---+\n",
      "|GENDER|Car_Owner|Propert_Owner|CHILDREN|Annual_income|         Type_Income|           EDUCATION|      Marital_status|     Housing_type|Birthday_count|Employed_days|Type_Occupation|Family_Members|    Birthday_years|Birthday_date|age|\n",
      "+------+---------+-------------+--------+-------------+--------------------+--------------------+--------------------+-----------------+--------------+-------------+---------------+--------------+------------------+-------------+---+\n",
      "|     M|        Y|            Y|       0|     180000.0|           Pensioner|    Higher education|             Married|House / apartment|         18772|       365243|             NA|             2| 51.43013698630137|   1973-10-02| 51|\n",
      "|     F|        Y|            N|       0|     315000.0|Commercial associate|    Higher education|             Married|House / apartment|         13557|         -586|             NA|             2| 37.14246575342466|   1988-01-12| 37|\n",
      "|     F|        Y|            N|       0|     315000.0|Commercial associate|    Higher education|             Married|House / apartment|         13557|         -586|             NA|             2| 37.14246575342466|   1988-01-12| 37|\n",
      "|     F|        Y|            N|       0|     315000.0|Commercial associate|    Higher education|             Married|House / apartment|         13557|         -586|             NA|             2| 37.14246575342466|   1988-01-12| 37|\n",
      "|     F|        N|            N|       0|     180000.0|           Pensioner|Secondary / secon...|             Married|House / apartment|         22134|       365243|             NA|             2| 60.64109589041096|   1964-07-19| 60|\n",
      "|     M|        Y|            Y|       1|     450000.0|Commercial associate|Secondary / secon...|             Married|House / apartment|         18173|         -678|     Core staff|             3| 49.78904109589041|   1975-05-24| 49|\n",
      "|     M|        Y|            Y|       1|     450000.0|           Pensioner|Secondary / secon...|             Married|House / apartment|         18173|         -678|     Core staff|             3| 49.78904109589041|   1975-05-24| 49|\n",
      "|     M|        Y|            Y|       1|     450000.0|Commercial associate|Secondary / secon...|Single / not married|House / apartment|         18173|         -678|     Core staff|             1| 49.78904109589041|   1975-05-24| 49|\n",
      "|     F|        Y|            Y|       0|      90000.0|             Working|Secondary / secon...|             Married|House / apartment|         18950|        -1002|  Cooking staff|             2|51.917808219178085|   1973-04-07| 51|\n",
      "|     F|        Y|            Y|       0|      90000.0|             Working|Secondary / secon...|             Married|House / apartment|         18950|        -1002|  Cooking staff|             2|51.917808219178085|   1973-04-07| 51|\n",
      "|     M|        N|            N|       1|     472500.0|           Pensioner|    Higher education|             Married|     With parents|          8907|         -913|             NA|             3|  24.4027397260274|   2000-10-05| 24|\n",
      "|     M|        N|            Y|       0|     270000.0|             Working|Secondary / secon...|             Married|House / apartment|         16896|         -248|       Laborers|             2| 46.29041095890411|   1978-11-21| 46|\n",
      "|     M|        N|            Y|       0|     270000.0|             Working|Secondary / secon...|Single / not married|House / apartment|         16896|         -248|       Laborers|             2| 46.29041095890411|   1978-11-21| 46|\n",
      "|     F|        N|            Y|       0|     126000.0|Commercial associate|    Higher education|Single / not married|House / apartment|         18907|        -2470|    Sales staff|             1|              51.8|   1973-05-20| 51|\n",
      "|     F|        N|            Y|       0|     126000.0|Commercial associate|    Higher education|Single / not married|House / apartment|         18907|        -2470|    Sales staff|             1|              51.8|   1973-05-20| 51|\n",
      "|     M|        N|            Y|       0|      90000.0|           Pensioner|Secondary / secon...|             Married|House / apartment|         18863|        -1644|             NA|             2|51.679452054794524|   1973-07-03| 51|\n",
      "|     M|        N|            N|       0|     202500.0|             Working|    Higher education|Single / not married|House / apartment|         12811|        -4327|             NA|             1|  35.0986301369863|   1990-01-27| 35|\n",
      "|     M|        Y|            Y|       0|     202500.0|Commercial associate|Secondary / secon...|      Civil marriage|House / apartment|         12022|        -1674|       Laborers|             2| 32.93698630136986|   1992-03-26| 33|\n",
      "|     M|        N|            Y|       0|     157500.0|Commercial associate|    Higher education|      Civil marriage|House / apartment|         17800|        -1086|    Accountants|             2| 48.76712328767123|   1976-05-31| 48|\n",
      "|     F|        N|            Y|       2|     112500.0|Commercial associate|Secondary / secon...|             Married|House / apartment|         12135|         -925|    Sales staff|             4| 33.24657534246575|   1991-12-04| 33|\n",
      "+------+---------+-------------+--------+-------------+--------------------+--------------------+--------------------+-----------------+--------------+-------------+---------------+--------------+------------------+-------------+---+\n",
      "only showing top 20 rows\n",
      "\n"
     ]
    }
   ],
   "source": [
    "# Calculate age based on the 'Birthday_date'\n",
    "credit_df = credit_df.withColumn(\"age\", \n",
    "                                 F.when(F.col(\"Birthday_date\").isNotNull(), \n",
    "                                        (F.datediff(F.current_date(), F.col(\"Birthday_date\")) / 365).cast(\"int\"))\n",
    "                                 .otherwise(None))\n",
    "\n",
    "credit_df.show()"
   ]
  },
  {
   "cell_type": "markdown",
   "metadata": {},
   "source": [
    "droppin unecessary columns "
   ]
  },
  {
   "cell_type": "code",
   "execution_count": 41,
   "metadata": {},
   "outputs": [
    {
     "name": "stdout",
     "output_type": "stream",
     "text": [
      "+------+---------+-------------+--------+-------------+--------------------+--------------------+--------------------+-----------------+-------------+---------------+--------------+---+\n",
      "|GENDER|Car_Owner|Propert_Owner|CHILDREN|Annual_income|         Type_Income|           EDUCATION|      Marital_status|     Housing_type|Employed_days|Type_Occupation|Family_Members|age|\n",
      "+------+---------+-------------+--------+-------------+--------------------+--------------------+--------------------+-----------------+-------------+---------------+--------------+---+\n",
      "|     M|        Y|            Y|       0|     180000.0|           Pensioner|    Higher education|             Married|House / apartment|       365243|             NA|             2| 51|\n",
      "|     F|        Y|            N|       0|     315000.0|Commercial associate|    Higher education|             Married|House / apartment|         -586|             NA|             2| 37|\n",
      "|     F|        Y|            N|       0|     315000.0|Commercial associate|    Higher education|             Married|House / apartment|         -586|             NA|             2| 37|\n",
      "|     F|        Y|            N|       0|     315000.0|Commercial associate|    Higher education|             Married|House / apartment|         -586|             NA|             2| 37|\n",
      "|     F|        N|            N|       0|     180000.0|           Pensioner|Secondary / secon...|             Married|House / apartment|       365243|             NA|             2| 60|\n",
      "|     M|        Y|            Y|       1|     450000.0|Commercial associate|Secondary / secon...|             Married|House / apartment|         -678|     Core staff|             3| 49|\n",
      "|     M|        Y|            Y|       1|     450000.0|           Pensioner|Secondary / secon...|             Married|House / apartment|         -678|     Core staff|             3| 49|\n",
      "|     M|        Y|            Y|       1|     450000.0|Commercial associate|Secondary / secon...|Single / not married|House / apartment|         -678|     Core staff|             1| 49|\n",
      "|     F|        Y|            Y|       0|      90000.0|             Working|Secondary / secon...|             Married|House / apartment|        -1002|  Cooking staff|             2| 51|\n",
      "|     F|        Y|            Y|       0|      90000.0|             Working|Secondary / secon...|             Married|House / apartment|        -1002|  Cooking staff|             2| 51|\n",
      "|     M|        N|            N|       1|     472500.0|           Pensioner|    Higher education|             Married|     With parents|         -913|             NA|             3| 24|\n",
      "|     M|        N|            Y|       0|     270000.0|             Working|Secondary / secon...|             Married|House / apartment|         -248|       Laborers|             2| 46|\n",
      "|     M|        N|            Y|       0|     270000.0|             Working|Secondary / secon...|Single / not married|House / apartment|         -248|       Laborers|             2| 46|\n",
      "|     F|        N|            Y|       0|     126000.0|Commercial associate|    Higher education|Single / not married|House / apartment|        -2470|    Sales staff|             1| 51|\n",
      "|     F|        N|            Y|       0|     126000.0|Commercial associate|    Higher education|Single / not married|House / apartment|        -2470|    Sales staff|             1| 51|\n",
      "|     M|        N|            Y|       0|      90000.0|           Pensioner|Secondary / secon...|             Married|House / apartment|        -1644|             NA|             2| 51|\n",
      "|     M|        N|            N|       0|     202500.0|             Working|    Higher education|Single / not married|House / apartment|        -4327|             NA|             1| 35|\n",
      "|     M|        Y|            Y|       0|     202500.0|Commercial associate|Secondary / secon...|      Civil marriage|House / apartment|        -1674|       Laborers|             2| 33|\n",
      "|     M|        N|            Y|       0|     157500.0|Commercial associate|    Higher education|      Civil marriage|House / apartment|        -1086|    Accountants|             2| 48|\n",
      "|     F|        N|            Y|       2|     112500.0|Commercial associate|Secondary / secon...|             Married|House / apartment|         -925|    Sales staff|             4| 33|\n",
      "+------+---------+-------------+--------+-------------+--------------------+--------------------+--------------------+-----------------+-------------+---------------+--------------+---+\n",
      "only showing top 20 rows\n",
      "\n"
     ]
    }
   ],
   "source": [
    "credit_df = credit_df.drop(\"Birthday_count\",\"Birthday_years\",\"Birthday_date\")\n",
    "credit_df.show()"
   ]
  },
  {
   "cell_type": "markdown",
   "metadata": {},
   "source": [
    "Normalise numerical features Employed_days."
   ]
  },
  {
   "cell_type": "code",
   "execution_count": 42,
   "metadata": {},
   "outputs": [
    {
     "name": "stdout",
     "output_type": "stream",
     "text": [
      "+------+---------+-------------+--------+-------------+--------------------+--------------------+--------------------+-----------------+-------------+---------------+--------------+---+\n",
      "|GENDER|Car_Owner|Propert_Owner|CHILDREN|Annual_income|         Type_Income|           EDUCATION|      Marital_status|     Housing_type|Employed_days|Type_Occupation|Family_Members|age|\n",
      "+------+---------+-------------+--------+-------------+--------------------+--------------------+--------------------+-----------------+-------------+---------------+--------------+---+\n",
      "|     M|        Y|            Y|       0|     180000.0|           Pensioner|    Higher education|             Married|House / apartment|   unemployed|             NA|             2| 51|\n",
      "|     F|        Y|            N|       0|     315000.0|Commercial associate|    Higher education|             Married|House / apartment|         -586|             NA|             2| 37|\n",
      "|     F|        Y|            N|       0|     315000.0|Commercial associate|    Higher education|             Married|House / apartment|         -586|             NA|             2| 37|\n",
      "|     F|        Y|            N|       0|     315000.0|Commercial associate|    Higher education|             Married|House / apartment|         -586|             NA|             2| 37|\n",
      "|     F|        N|            N|       0|     180000.0|           Pensioner|Secondary / secon...|             Married|House / apartment|   unemployed|             NA|             2| 60|\n",
      "|     M|        Y|            Y|       1|     450000.0|Commercial associate|Secondary / secon...|             Married|House / apartment|         -678|     Core staff|             3| 49|\n",
      "|     M|        Y|            Y|       1|     450000.0|           Pensioner|Secondary / secon...|             Married|House / apartment|         -678|     Core staff|             3| 49|\n",
      "|     M|        Y|            Y|       1|     450000.0|Commercial associate|Secondary / secon...|Single / not married|House / apartment|         -678|     Core staff|             1| 49|\n",
      "|     F|        Y|            Y|       0|      90000.0|             Working|Secondary / secon...|             Married|House / apartment|        -1002|  Cooking staff|             2| 51|\n",
      "|     F|        Y|            Y|       0|      90000.0|             Working|Secondary / secon...|             Married|House / apartment|        -1002|  Cooking staff|             2| 51|\n",
      "|     M|        N|            N|       1|     472500.0|           Pensioner|    Higher education|             Married|     With parents|         -913|             NA|             3| 24|\n",
      "|     M|        N|            Y|       0|     270000.0|             Working|Secondary / secon...|             Married|House / apartment|         -248|       Laborers|             2| 46|\n",
      "|     M|        N|            Y|       0|     270000.0|             Working|Secondary / secon...|Single / not married|House / apartment|         -248|       Laborers|             2| 46|\n",
      "|     F|        N|            Y|       0|     126000.0|Commercial associate|    Higher education|Single / not married|House / apartment|        -2470|    Sales staff|             1| 51|\n",
      "|     F|        N|            Y|       0|     126000.0|Commercial associate|    Higher education|Single / not married|House / apartment|        -2470|    Sales staff|             1| 51|\n",
      "|     M|        N|            Y|       0|      90000.0|           Pensioner|Secondary / secon...|             Married|House / apartment|        -1644|             NA|             2| 51|\n",
      "|     M|        N|            N|       0|     202500.0|             Working|    Higher education|Single / not married|House / apartment|        -4327|             NA|             1| 35|\n",
      "|     M|        Y|            Y|       0|     202500.0|Commercial associate|Secondary / secon...|      Civil marriage|House / apartment|        -1674|       Laborers|             2| 33|\n",
      "|     M|        N|            Y|       0|     157500.0|Commercial associate|    Higher education|      Civil marriage|House / apartment|        -1086|    Accountants|             2| 48|\n",
      "|     F|        N|            Y|       2|     112500.0|Commercial associate|Secondary / secon...|             Married|House / apartment|         -925|    Sales staff|             4| 33|\n",
      "+------+---------+-------------+--------+-------------+--------------------+--------------------+--------------------+-----------------+-------------+---------------+--------------+---+\n",
      "only showing top 20 rows\n",
      "\n"
     ]
    }
   ],
   "source": [
    "credit_df = credit_df.withColumn(\"Employed_days\", when(col(\"Employed_days\") > 0, \"unemployed\").otherwise(col(\"Employed_days\"))) #give Employed_days \"unemployed\" value for positive numbers\n",
    "credit_df.show()"
   ]
  },
  {
   "cell_type": "markdown",
   "metadata": {},
   "source": [
    "change negative employed_days to positive for an easier convertion to date - to apply the condition of Start date of employment. based a backward count from current day (0)"
   ]
  },
  {
   "cell_type": "code",
   "execution_count": 43,
   "metadata": {},
   "outputs": [
    {
     "name": "stdout",
     "output_type": "stream",
     "text": [
      "+------+---------+-------------+--------+-------------+--------------------+--------------------+--------------------+-----------------+-------------+---------------+--------------+---+\n",
      "|GENDER|Car_Owner|Propert_Owner|CHILDREN|Annual_income|         Type_Income|           EDUCATION|      Marital_status|     Housing_type|Employed_days|Type_Occupation|Family_Members|age|\n",
      "+------+---------+-------------+--------+-------------+--------------------+--------------------+--------------------+-----------------+-------------+---------------+--------------+---+\n",
      "|     M|        Y|            Y|       0|     180000.0|           Pensioner|    Higher education|             Married|House / apartment|   unemployed|             NA|             2| 51|\n",
      "|     F|        Y|            N|       0|     315000.0|Commercial associate|    Higher education|             Married|House / apartment|        586.0|             NA|             2| 37|\n",
      "|     F|        Y|            N|       0|     315000.0|Commercial associate|    Higher education|             Married|House / apartment|        586.0|             NA|             2| 37|\n",
      "|     F|        Y|            N|       0|     315000.0|Commercial associate|    Higher education|             Married|House / apartment|        586.0|             NA|             2| 37|\n",
      "|     F|        N|            N|       0|     180000.0|           Pensioner|Secondary / secon...|             Married|House / apartment|   unemployed|             NA|             2| 60|\n",
      "|     M|        Y|            Y|       1|     450000.0|Commercial associate|Secondary / secon...|             Married|House / apartment|        678.0|     Core staff|             3| 49|\n",
      "|     M|        Y|            Y|       1|     450000.0|           Pensioner|Secondary / secon...|             Married|House / apartment|        678.0|     Core staff|             3| 49|\n",
      "|     M|        Y|            Y|       1|     450000.0|Commercial associate|Secondary / secon...|Single / not married|House / apartment|        678.0|     Core staff|             1| 49|\n",
      "|     F|        Y|            Y|       0|      90000.0|             Working|Secondary / secon...|             Married|House / apartment|       1002.0|  Cooking staff|             2| 51|\n",
      "|     F|        Y|            Y|       0|      90000.0|             Working|Secondary / secon...|             Married|House / apartment|       1002.0|  Cooking staff|             2| 51|\n",
      "|     M|        N|            N|       1|     472500.0|           Pensioner|    Higher education|             Married|     With parents|        913.0|             NA|             3| 24|\n",
      "|     M|        N|            Y|       0|     270000.0|             Working|Secondary / secon...|             Married|House / apartment|        248.0|       Laborers|             2| 46|\n",
      "|     M|        N|            Y|       0|     270000.0|             Working|Secondary / secon...|Single / not married|House / apartment|        248.0|       Laborers|             2| 46|\n",
      "|     F|        N|            Y|       0|     126000.0|Commercial associate|    Higher education|Single / not married|House / apartment|       2470.0|    Sales staff|             1| 51|\n",
      "|     F|        N|            Y|       0|     126000.0|Commercial associate|    Higher education|Single / not married|House / apartment|       2470.0|    Sales staff|             1| 51|\n",
      "|     M|        N|            Y|       0|      90000.0|           Pensioner|Secondary / secon...|             Married|House / apartment|       1644.0|             NA|             2| 51|\n",
      "|     M|        N|            N|       0|     202500.0|             Working|    Higher education|Single / not married|House / apartment|       4327.0|             NA|             1| 35|\n",
      "|     M|        Y|            Y|       0|     202500.0|Commercial associate|Secondary / secon...|      Civil marriage|House / apartment|       1674.0|       Laborers|             2| 33|\n",
      "|     M|        N|            Y|       0|     157500.0|Commercial associate|    Higher education|      Civil marriage|House / apartment|       1086.0|    Accountants|             2| 48|\n",
      "|     F|        N|            Y|       2|     112500.0|Commercial associate|Secondary / secon...|             Married|House / apartment|        925.0|    Sales staff|             4| 33|\n",
      "+------+---------+-------------+--------+-------------+--------------------+--------------------+--------------------+-----------------+-------------+---------------+--------------+---+\n",
      "only showing top 20 rows\n",
      "\n"
     ]
    }
   ],
   "source": [
    "credit_df = credit_df.withColumn(\"Employed_days\", when(col(\"Employed_days\") == \"unemployed\", \"unemployed\").otherwise(abs(col(\"Employed_days\"))))\n",
    "credit_df.show()"
   ]
  },
  {
   "cell_type": "markdown",
   "metadata": {},
   "source": [
    "consider numbers values in Employed_days to be number of days based on 365 days a year"
   ]
  },
  {
   "cell_type": "code",
   "execution_count": 44,
   "metadata": {},
   "outputs": [
    {
     "name": "stdout",
     "output_type": "stream",
     "text": [
      "+------+---------+-------------+--------+-------------+--------------------+--------------------+--------------------+-----------------+-------------+---------------+--------------+---+------------------+\n",
      "|GENDER|Car_Owner|Propert_Owner|CHILDREN|Annual_income|         Type_Income|           EDUCATION|      Marital_status|     Housing_type|Employed_days|Type_Occupation|Family_Members|age|    Employed_years|\n",
      "+------+---------+-------------+--------+-------------+--------------------+--------------------+--------------------+-----------------+-------------+---------------+--------------+---+------------------+\n",
      "|     M|        Y|            Y|       0|     180000.0|           Pensioner|    Higher education|             Married|House / apartment|   unemployed|             NA|             2| 51|        unemployed|\n",
      "|     F|        Y|            N|       0|     315000.0|Commercial associate|    Higher education|             Married|House / apartment|        586.0|             NA|             2| 37|1.6054794520547946|\n",
      "|     F|        Y|            N|       0|     315000.0|Commercial associate|    Higher education|             Married|House / apartment|        586.0|             NA|             2| 37|1.6054794520547946|\n",
      "|     F|        Y|            N|       0|     315000.0|Commercial associate|    Higher education|             Married|House / apartment|        586.0|             NA|             2| 37|1.6054794520547946|\n",
      "|     F|        N|            N|       0|     180000.0|           Pensioner|Secondary / secon...|             Married|House / apartment|   unemployed|             NA|             2| 60|        unemployed|\n",
      "|     M|        Y|            Y|       1|     450000.0|Commercial associate|Secondary / secon...|             Married|House / apartment|        678.0|     Core staff|             3| 49|1.8575342465753424|\n",
      "|     M|        Y|            Y|       1|     450000.0|           Pensioner|Secondary / secon...|             Married|House / apartment|        678.0|     Core staff|             3| 49|1.8575342465753424|\n",
      "|     M|        Y|            Y|       1|     450000.0|Commercial associate|Secondary / secon...|Single / not married|House / apartment|        678.0|     Core staff|             1| 49|1.8575342465753424|\n",
      "|     F|        Y|            Y|       0|      90000.0|             Working|Secondary / secon...|             Married|House / apartment|       1002.0|  Cooking staff|             2| 51| 2.745205479452055|\n",
      "|     F|        Y|            Y|       0|      90000.0|             Working|Secondary / secon...|             Married|House / apartment|       1002.0|  Cooking staff|             2| 51| 2.745205479452055|\n",
      "|     M|        N|            N|       1|     472500.0|           Pensioner|    Higher education|             Married|     With parents|        913.0|             NA|             3| 24|2.5013698630136987|\n",
      "|     M|        N|            Y|       0|     270000.0|             Working|Secondary / secon...|             Married|House / apartment|        248.0|       Laborers|             2| 46|0.6794520547945205|\n",
      "|     M|        N|            Y|       0|     270000.0|             Working|Secondary / secon...|Single / not married|House / apartment|        248.0|       Laborers|             2| 46|0.6794520547945205|\n",
      "|     F|        N|            Y|       0|     126000.0|Commercial associate|    Higher education|Single / not married|House / apartment|       2470.0|    Sales staff|             1| 51| 6.767123287671233|\n",
      "|     F|        N|            Y|       0|     126000.0|Commercial associate|    Higher education|Single / not married|House / apartment|       2470.0|    Sales staff|             1| 51| 6.767123287671233|\n",
      "|     M|        N|            Y|       0|      90000.0|           Pensioner|Secondary / secon...|             Married|House / apartment|       1644.0|             NA|             2| 51| 4.504109589041096|\n",
      "|     M|        N|            N|       0|     202500.0|             Working|    Higher education|Single / not married|House / apartment|       4327.0|             NA|             1| 35|11.854794520547944|\n",
      "|     M|        Y|            Y|       0|     202500.0|Commercial associate|Secondary / secon...|      Civil marriage|House / apartment|       1674.0|       Laborers|             2| 33| 4.586301369863014|\n",
      "|     M|        N|            Y|       0|     157500.0|Commercial associate|    Higher education|      Civil marriage|House / apartment|       1086.0|    Accountants|             2| 48|2.9753424657534246|\n",
      "|     F|        N|            Y|       2|     112500.0|Commercial associate|Secondary / secon...|             Married|House / apartment|        925.0|    Sales staff|             4| 33|2.5342465753424657|\n",
      "+------+---------+-------------+--------+-------------+--------------------+--------------------+--------------------+-----------------+-------------+---------------+--------------+---+------------------+\n",
      "only showing top 20 rows\n",
      "\n"
     ]
    }
   ],
   "source": [
    "credit_df = credit_df.withColumn(\"Employed_years\", when(col(\"Employed_days\") == \"unemployed\", \"unemployed\").otherwise(col(\"Employed_days\") / 365))\n",
    "credit_df.show()"
   ]
  },
  {
   "cell_type": "markdown",
   "metadata": {},
   "source": [
    "TRANSFORM EMPLOYED_YEARS IN 1 DECIMAL NUMBER "
   ]
  },
  {
   "cell_type": "code",
   "execution_count": 45,
   "metadata": {},
   "outputs": [
    {
     "name": "stdout",
     "output_type": "stream",
     "text": [
      "+------+---------+-------------+--------+-------------+--------------------+--------------------+--------------------+-----------------+-------------+---------------+--------------+---+--------------+\n",
      "|GENDER|Car_Owner|Propert_Owner|CHILDREN|Annual_income|         Type_Income|           EDUCATION|      Marital_status|     Housing_type|Employed_days|Type_Occupation|Family_Members|age|Employed_years|\n",
      "+------+---------+-------------+--------+-------------+--------------------+--------------------+--------------------+-----------------+-------------+---------------+--------------+---+--------------+\n",
      "|     M|        Y|            Y|       0|     180000.0|           Pensioner|    Higher education|             Married|House / apartment|   unemployed|             NA|             2| 51|    unemployed|\n",
      "|     F|        Y|            N|       0|     315000.0|Commercial associate|    Higher education|             Married|House / apartment|        586.0|             NA|             2| 37|           1.6|\n",
      "|     F|        Y|            N|       0|     315000.0|Commercial associate|    Higher education|             Married|House / apartment|        586.0|             NA|             2| 37|           1.6|\n",
      "|     F|        Y|            N|       0|     315000.0|Commercial associate|    Higher education|             Married|House / apartment|        586.0|             NA|             2| 37|           1.6|\n",
      "|     F|        N|            N|       0|     180000.0|           Pensioner|Secondary / secon...|             Married|House / apartment|   unemployed|             NA|             2| 60|    unemployed|\n",
      "|     M|        Y|            Y|       1|     450000.0|Commercial associate|Secondary / secon...|             Married|House / apartment|        678.0|     Core staff|             3| 49|           1.9|\n",
      "|     M|        Y|            Y|       1|     450000.0|           Pensioner|Secondary / secon...|             Married|House / apartment|        678.0|     Core staff|             3| 49|           1.9|\n",
      "|     M|        Y|            Y|       1|     450000.0|Commercial associate|Secondary / secon...|Single / not married|House / apartment|        678.0|     Core staff|             1| 49|           1.9|\n",
      "|     F|        Y|            Y|       0|      90000.0|             Working|Secondary / secon...|             Married|House / apartment|       1002.0|  Cooking staff|             2| 51|           2.7|\n",
      "|     F|        Y|            Y|       0|      90000.0|             Working|Secondary / secon...|             Married|House / apartment|       1002.0|  Cooking staff|             2| 51|           2.7|\n",
      "|     M|        N|            N|       1|     472500.0|           Pensioner|    Higher education|             Married|     With parents|        913.0|             NA|             3| 24|           2.5|\n",
      "|     M|        N|            Y|       0|     270000.0|             Working|Secondary / secon...|             Married|House / apartment|        248.0|       Laborers|             2| 46|           0.7|\n",
      "|     M|        N|            Y|       0|     270000.0|             Working|Secondary / secon...|Single / not married|House / apartment|        248.0|       Laborers|             2| 46|           0.7|\n",
      "|     F|        N|            Y|       0|     126000.0|Commercial associate|    Higher education|Single / not married|House / apartment|       2470.0|    Sales staff|             1| 51|           6.8|\n",
      "|     F|        N|            Y|       0|     126000.0|Commercial associate|    Higher education|Single / not married|House / apartment|       2470.0|    Sales staff|             1| 51|           6.8|\n",
      "|     M|        N|            Y|       0|      90000.0|           Pensioner|Secondary / secon...|             Married|House / apartment|       1644.0|             NA|             2| 51|           4.5|\n",
      "|     M|        N|            N|       0|     202500.0|             Working|    Higher education|Single / not married|House / apartment|       4327.0|             NA|             1| 35|          11.9|\n",
      "|     M|        Y|            Y|       0|     202500.0|Commercial associate|Secondary / secon...|      Civil marriage|House / apartment|       1674.0|       Laborers|             2| 33|           4.6|\n",
      "|     M|        N|            Y|       0|     157500.0|Commercial associate|    Higher education|      Civil marriage|House / apartment|       1086.0|    Accountants|             2| 48|           3.0|\n",
      "|     F|        N|            Y|       2|     112500.0|Commercial associate|Secondary / secon...|             Married|House / apartment|        925.0|    Sales staff|             4| 33|           2.5|\n",
      "+------+---------+-------------+--------+-------------+--------------------+--------------------+--------------------+-----------------+-------------+---------------+--------------+---+--------------+\n",
      "only showing top 20 rows\n",
      "\n"
     ]
    }
   ],
   "source": [
    "credit_df = credit_df.withColumn(\"Employed_years\", when(col(\"Employed_years\") == \"unemployed\", \"unemployed\").otherwise(round(col(\"Employed_years\"), 1)))\n",
    "credit_df.show()"
   ]
  },
  {
   "cell_type": "markdown",
   "metadata": {},
   "source": [
    "dropping Employed_days and keeping NEW Employed_years COLUM FOR ANALYSIS"
   ]
  },
  {
   "cell_type": "code",
   "execution_count": 46,
   "metadata": {},
   "outputs": [
    {
     "name": "stdout",
     "output_type": "stream",
     "text": [
      "+------+---------+-------------+--------+-------------+--------------------+--------------------+--------------------+-----------------+---------------+--------------+---+--------------+\n",
      "|GENDER|Car_Owner|Propert_Owner|CHILDREN|Annual_income|         Type_Income|           EDUCATION|      Marital_status|     Housing_type|Type_Occupation|Family_Members|age|Employed_years|\n",
      "+------+---------+-------------+--------+-------------+--------------------+--------------------+--------------------+-----------------+---------------+--------------+---+--------------+\n",
      "|     M|        Y|            Y|       0|     180000.0|           Pensioner|    Higher education|             Married|House / apartment|             NA|             2| 51|    unemployed|\n",
      "|     F|        Y|            N|       0|     315000.0|Commercial associate|    Higher education|             Married|House / apartment|             NA|             2| 37|           1.6|\n",
      "|     F|        Y|            N|       0|     315000.0|Commercial associate|    Higher education|             Married|House / apartment|             NA|             2| 37|           1.6|\n",
      "|     F|        Y|            N|       0|     315000.0|Commercial associate|    Higher education|             Married|House / apartment|             NA|             2| 37|           1.6|\n",
      "|     F|        N|            N|       0|     180000.0|           Pensioner|Secondary / secon...|             Married|House / apartment|             NA|             2| 60|    unemployed|\n",
      "|     M|        Y|            Y|       1|     450000.0|Commercial associate|Secondary / secon...|             Married|House / apartment|     Core staff|             3| 49|           1.9|\n",
      "|     M|        Y|            Y|       1|     450000.0|           Pensioner|Secondary / secon...|             Married|House / apartment|     Core staff|             3| 49|           1.9|\n",
      "|     M|        Y|            Y|       1|     450000.0|Commercial associate|Secondary / secon...|Single / not married|House / apartment|     Core staff|             1| 49|           1.9|\n",
      "|     F|        Y|            Y|       0|      90000.0|             Working|Secondary / secon...|             Married|House / apartment|  Cooking staff|             2| 51|           2.7|\n",
      "|     F|        Y|            Y|       0|      90000.0|             Working|Secondary / secon...|             Married|House / apartment|  Cooking staff|             2| 51|           2.7|\n",
      "|     M|        N|            N|       1|     472500.0|           Pensioner|    Higher education|             Married|     With parents|             NA|             3| 24|           2.5|\n",
      "|     M|        N|            Y|       0|     270000.0|             Working|Secondary / secon...|             Married|House / apartment|       Laborers|             2| 46|           0.7|\n",
      "|     M|        N|            Y|       0|     270000.0|             Working|Secondary / secon...|Single / not married|House / apartment|       Laborers|             2| 46|           0.7|\n",
      "|     F|        N|            Y|       0|     126000.0|Commercial associate|    Higher education|Single / not married|House / apartment|    Sales staff|             1| 51|           6.8|\n",
      "|     F|        N|            Y|       0|     126000.0|Commercial associate|    Higher education|Single / not married|House / apartment|    Sales staff|             1| 51|           6.8|\n",
      "|     M|        N|            Y|       0|      90000.0|           Pensioner|Secondary / secon...|             Married|House / apartment|             NA|             2| 51|           4.5|\n",
      "|     M|        N|            N|       0|     202500.0|             Working|    Higher education|Single / not married|House / apartment|             NA|             1| 35|          11.9|\n",
      "|     M|        Y|            Y|       0|     202500.0|Commercial associate|Secondary / secon...|      Civil marriage|House / apartment|       Laborers|             2| 33|           4.6|\n",
      "|     M|        N|            Y|       0|     157500.0|Commercial associate|    Higher education|      Civil marriage|House / apartment|    Accountants|             2| 48|           3.0|\n",
      "|     F|        N|            Y|       2|     112500.0|Commercial associate|Secondary / secon...|             Married|House / apartment|    Sales staff|             4| 33|           2.5|\n",
      "+------+---------+-------------+--------+-------------+--------------------+--------------------+--------------------+-----------------+---------------+--------------+---+--------------+\n",
      "only showing top 20 rows\n",
      "\n"
     ]
    }
   ],
   "source": [
    "credit_df = credit_df.drop(\"Employed_days\")\n",
    "credit_df.show()"
   ]
  },
  {
   "cell_type": "markdown",
   "metadata": {},
   "source": [
    "RAISE BIAS ISSUE ON MODEL BASED ON GENDER IF YOU CHOOSE TO KEEP IT IN ACCOUNT FOR THE MODEL"
   ]
  },
  {
   "cell_type": "markdown",
   "metadata": {},
   "source": [
    "MOVING TO STEP 3 OF THE EXERCISE - 3 FEATURE ENGINEERING"
   ]
  },
  {
   "cell_type": "markdown",
   "metadata": {},
   "source": [
    "SHOWING ALL TYPES OF HOUSING POSSIBLE IN THE DATASET"
   ]
  },
  {
   "cell_type": "code",
   "execution_count": 47,
   "metadata": {},
   "outputs": [
    {
     "name": "stdout",
     "output_type": "stream",
     "text": [
      "+-------------------+\n",
      "|       Housing_type|\n",
      "+-------------------+\n",
      "|  House / apartment|\n",
      "|Municipal apartment|\n",
      "|    Co-op apartment|\n",
      "|   Rented apartment|\n",
      "|   Office apartment|\n",
      "|       With parents|\n",
      "+-------------------+\n",
      "\n"
     ]
    }
   ],
   "source": [
    "credit_df.select(\"Housing_type\").distinct().show()"
   ]
  },
  {
   "cell_type": "markdown",
   "metadata": {},
   "source": [
    "GIVING FR SCORE BASED ON CAR - PROPERTY AND HOUSING CONDITION"
   ]
  },
  {
   "cell_type": "code",
   "execution_count": 48,
   "metadata": {},
   "outputs": [
    {
     "name": "stdout",
     "output_type": "stream",
     "text": [
      "+------+---------+-------------+--------+-------------+--------------------+--------------------+--------------------+-----------------+---------------+--------------+---+--------------+--------+\n",
      "|GENDER|Car_Owner|Propert_Owner|CHILDREN|Annual_income|         Type_Income|           EDUCATION|      Marital_status|     Housing_type|Type_Occupation|Family_Members|age|Employed_years|FR_score|\n",
      "+------+---------+-------------+--------+-------------+--------------------+--------------------+--------------------+-----------------+---------------+--------------+---+--------------+--------+\n",
      "|     M|        Y|            Y|       0|     180000.0|           Pensioner|    Higher education|             Married|House / apartment|             NA|             2| 51|    unemployed|       6|\n",
      "|     F|        Y|            N|       0|     315000.0|Commercial associate|    Higher education|             Married|House / apartment|             NA|             2| 37|           1.6|       4|\n",
      "|     F|        Y|            N|       0|     315000.0|Commercial associate|    Higher education|             Married|House / apartment|             NA|             2| 37|           1.6|       4|\n",
      "|     F|        Y|            N|       0|     315000.0|Commercial associate|    Higher education|             Married|House / apartment|             NA|             2| 37|           1.6|       4|\n",
      "|     F|        N|            N|       0|     180000.0|           Pensioner|Secondary / secon...|             Married|House / apartment|             NA|             2| 60|    unemployed|       1|\n",
      "|     M|        Y|            Y|       1|     450000.0|Commercial associate|Secondary / secon...|             Married|House / apartment|     Core staff|             3| 49|           1.9|       6|\n",
      "|     M|        Y|            Y|       1|     450000.0|           Pensioner|Secondary / secon...|             Married|House / apartment|     Core staff|             3| 49|           1.9|       6|\n",
      "|     M|        Y|            Y|       1|     450000.0|Commercial associate|Secondary / secon...|Single / not married|House / apartment|     Core staff|             1| 49|           1.9|       6|\n",
      "|     F|        Y|            Y|       0|      90000.0|             Working|Secondary / secon...|             Married|House / apartment|  Cooking staff|             2| 51|           2.7|       6|\n",
      "|     F|        Y|            Y|       0|      90000.0|             Working|Secondary / secon...|             Married|House / apartment|  Cooking staff|             2| 51|           2.7|       6|\n",
      "|     M|        N|            N|       1|     472500.0|           Pensioner|    Higher education|             Married|     With parents|             NA|             3| 24|           2.5|       1|\n",
      "|     M|        N|            Y|       0|     270000.0|             Working|Secondary / secon...|             Married|House / apartment|       Laborers|             2| 46|           0.7|       3|\n",
      "|     M|        N|            Y|       0|     270000.0|             Working|Secondary / secon...|Single / not married|House / apartment|       Laborers|             2| 46|           0.7|       3|\n",
      "|     F|        N|            Y|       0|     126000.0|Commercial associate|    Higher education|Single / not married|House / apartment|    Sales staff|             1| 51|           6.8|       3|\n",
      "|     F|        N|            Y|       0|     126000.0|Commercial associate|    Higher education|Single / not married|House / apartment|    Sales staff|             1| 51|           6.8|       3|\n",
      "|     M|        N|            Y|       0|      90000.0|           Pensioner|Secondary / secon...|             Married|House / apartment|             NA|             2| 51|           4.5|       3|\n",
      "|     M|        N|            N|       0|     202500.0|             Working|    Higher education|Single / not married|House / apartment|             NA|             1| 35|          11.9|       1|\n",
      "|     M|        Y|            Y|       0|     202500.0|Commercial associate|Secondary / secon...|      Civil marriage|House / apartment|       Laborers|             2| 33|           4.6|       6|\n",
      "|     M|        N|            Y|       0|     157500.0|Commercial associate|    Higher education|      Civil marriage|House / apartment|    Accountants|             2| 48|           3.0|       3|\n",
      "|     F|        N|            Y|       2|     112500.0|Commercial associate|Secondary / secon...|             Married|House / apartment|    Sales staff|             4| 33|           2.5|       3|\n",
      "+------+---------+-------------+--------+-------------+--------------------+--------------------+--------------------+-----------------+---------------+--------------+---+--------------+--------+\n",
      "only showing top 20 rows\n",
      "\n"
     ]
    }
   ],
   "source": [
    "credit_df = credit_df.withColumn(\"FR_score\", \n",
    "                                 \n",
    "                                 F.when((F.col(\"Car_Owner\") == \"Y\") & (F.col(\"Propert_Owner\") == \"Y\") & (F.col(\"Housing_type\") == \"House / apartment\"), 6)\n",
    "                                 .when((F.col(\"Car_Owner\") == \"Y\") & (F.col(\"Propert_Owner\") == \"Y\") & (F.col(\"Housing_type\") == \"Rented apartment\"), 5)\n",
    "                                 .when((F.col(\"Car_Owner\") == \"Y\") & (F.col(\"Propert_Owner\") == \"Y\") & (F.col(\"Housing_type\") == \"Office apartment\"), 4)\n",
    "                                 .when((F.col(\"Car_Owner\") == \"Y\") & (F.col(\"Propert_Owner\") == \"Y\") & (F.col(\"Housing_type\") == \"With parents\"), 3)\n",
    "                                 .when((F.col(\"Car_Owner\") == \"Y\") & (F.col(\"Propert_Owner\") == \"N\") & (F.col(\"Housing_type\") == \"Co-op apartment\"), 2)\n",
    "                                 .when((F.col(\"Car_Owner\") == \"N\") & (F.col(\"Propert_Owner\") == \"N\") & (F.col(\"Housing_type\") == \"Municipal apartment\"), 1)\n",
    "                                 .when((F.col(\"Car_Owner\") == \"Y\") & (F.col(\"Propert_Owner\") == \"N\") & (F.col(\"Housing_type\") == \"House / apartment\"), 4)\n",
    "                                 .when((F.col(\"Car_Owner\") == \"Y\") & (F.col(\"Propert_Owner\") == \"N\") & (F.col(\"Housing_type\") == \"Rented apartment\"), 3)\n",
    "                                 .when((F.col(\"Car_Owner\") == \"Y\") & (F.col(\"Propert_Owner\") == \"N\") & (F.col(\"Housing_type\") == \"Office apartment\"), 2)\n",
    "                                 .when((F.col(\"Car_Owner\") == \"Y\") & (F.col(\"Propert_Owner\") == \"N\") & (F.col(\"Housing_type\") == \"With parents\"), 1)\n",
    "                                 .when((F.col(\"Car_Owner\") == \"N\") & (F.col(\"Propert_Owner\") == \"Y\") & (F.col(\"Housing_type\") == \"House / apartment\"), 3)\n",
    "                                 .when((F.col(\"Car_Owner\") == \"N\") & (F.col(\"Propert_Owner\") == \"Y\") & (F.col(\"Housing_type\") == \"Rented apartment\"), 2)\n",
    "                                 .when((F.col(\"Car_Owner\") == \"N\") & (F.col(\"Propert_Owner\") == \"Y\") & (F.col(\"Housing_type\") == \"Office apartment\"), 1)\n",
    "                                 .when((F.col(\"Car_Owner\") == \"N\") & (F.col(\"Propert_Owner\") == \"Y\") & (F.col(\"Housing_type\") == \"With parents\"), 0)\n",
    "                                 .when((F.col(\"Car_Owner\") == \"Y\") & (F.col(\"Propert_Owner\") == \"Y\") & (F.col(\"Housing_type\") == \"Co-op apartment\"), 6)\n",
    "                                 .when((F.col(\"Car_Owner\") == \"Y\") & (F.col(\"Propert_Owner\") == \"N\") & (F.col(\"Housing_type\") == \"Co-op apartment\"), 4)\n",
    "                                 .when((F.col(\"Car_Owner\") == \"N\") & (F.col(\"Propert_Owner\") == \"Y\") & (F.col(\"Housing_type\") == \"Co-op apartment\"), 5)\n",
    "                                 .when((F.col(\"Car_Owner\") == \"N\") & (F.col(\"Propert_Owner\") == \"N\") & (F.col(\"Housing_type\") == \"Co-op apartment\"), 1)\n",
    "                                 .when((F.col(\"Car_Owner\") == \"Y\") & (F.col(\"Propert_Owner\") == \"Y\") & (F.col(\"Housing_type\") == \"Municipal apartment\"), 6)\n",
    "                                 .when((F.col(\"Car_Owner\") == \"Y\") & (F.col(\"Propert_Owner\") == \"N\") & (F.col(\"Housing_type\") == \"Municipal apartment\"), 4)\n",
    "                                 .when((F.col(\"Car_Owner\") == \"N\") & (F.col(\"Propert_Owner\") == \"Y\") & (F.col(\"Housing_type\") == \"Municipal apartment\"), 5)\n",
    "                                 .when((F.col(\"Car_Owner\") == \"N\") & (F.col(\"Propert_Owner\") == \"N\") & (F.col(\"Housing_type\") == \"Municipal apartment\"), 1)\n",
    "                                 .otherwise(1)\n",
    ")\n",
    "\n",
    "credit_df.show()\n",
    "\n"
   ]
  },
  {
   "cell_type": "code",
   "execution_count": 49,
   "metadata": {},
   "outputs": [
    {
     "name": "stdout",
     "output_type": "stream",
     "text": [
      "+--------------------+\n",
      "|      Marital_status|\n",
      "+--------------------+\n",
      "|           Separated|\n",
      "|             Married|\n",
      "|Single / not married|\n",
      "|               Widow|\n",
      "|      Civil marriage|\n",
      "+--------------------+\n",
      "\n"
     ]
    }
   ],
   "source": [
    "credit_df.select(\"Marital_status\").distinct().show()"
   ]
  },
  {
   "cell_type": "code",
   "execution_count": 50,
   "metadata": {},
   "outputs": [
    {
     "name": "stdout",
     "output_type": "stream",
     "text": [
      "+------+---------+-------------+--------+-------------+--------------------+--------------------+--------------+-----------------+---------------+--------------+---+--------------+--------+\n",
      "|GENDER|Car_Owner|Propert_Owner|CHILDREN|Annual_income|         Type_Income|           EDUCATION|Marital_status|     Housing_type|Type_Occupation|Family_Members|age|Employed_years|FR_score|\n",
      "+------+---------+-------------+--------+-------------+--------------------+--------------------+--------------+-----------------+---------------+--------------+---+--------------+--------+\n",
      "|     M|        Y|            Y|       0|     180000.0|           Pensioner|    Higher education|             Y|House / apartment|             NA|             2| 51|    unemployed|       6|\n",
      "|     F|        Y|            N|       0|     315000.0|Commercial associate|    Higher education|             Y|House / apartment|             NA|             2| 37|           1.6|       4|\n",
      "|     F|        Y|            N|       0|     315000.0|Commercial associate|    Higher education|             Y|House / apartment|             NA|             2| 37|           1.6|       4|\n",
      "|     F|        Y|            N|       0|     315000.0|Commercial associate|    Higher education|             Y|House / apartment|             NA|             2| 37|           1.6|       4|\n",
      "|     F|        N|            N|       0|     180000.0|           Pensioner|Secondary / secon...|             Y|House / apartment|             NA|             2| 60|    unemployed|       1|\n",
      "|     M|        Y|            Y|       1|     450000.0|Commercial associate|Secondary / secon...|             Y|House / apartment|     Core staff|             3| 49|           1.9|       6|\n",
      "|     M|        Y|            Y|       1|     450000.0|           Pensioner|Secondary / secon...|             Y|House / apartment|     Core staff|             3| 49|           1.9|       6|\n",
      "|     M|        Y|            Y|       1|     450000.0|Commercial associate|Secondary / secon...|             N|House / apartment|     Core staff|             1| 49|           1.9|       6|\n",
      "|     F|        Y|            Y|       0|      90000.0|             Working|Secondary / secon...|             Y|House / apartment|  Cooking staff|             2| 51|           2.7|       6|\n",
      "|     F|        Y|            Y|       0|      90000.0|             Working|Secondary / secon...|             Y|House / apartment|  Cooking staff|             2| 51|           2.7|       6|\n",
      "|     M|        N|            N|       1|     472500.0|           Pensioner|    Higher education|             Y|     With parents|             NA|             3| 24|           2.5|       1|\n",
      "|     M|        N|            Y|       0|     270000.0|             Working|Secondary / secon...|             Y|House / apartment|       Laborers|             2| 46|           0.7|       3|\n",
      "|     M|        N|            Y|       0|     270000.0|             Working|Secondary / secon...|             N|House / apartment|       Laborers|             2| 46|           0.7|       3|\n",
      "|     F|        N|            Y|       0|     126000.0|Commercial associate|    Higher education|             N|House / apartment|    Sales staff|             1| 51|           6.8|       3|\n",
      "|     F|        N|            Y|       0|     126000.0|Commercial associate|    Higher education|             N|House / apartment|    Sales staff|             1| 51|           6.8|       3|\n",
      "|     M|        N|            Y|       0|      90000.0|           Pensioner|Secondary / secon...|             Y|House / apartment|             NA|             2| 51|           4.5|       3|\n",
      "|     M|        N|            N|       0|     202500.0|             Working|    Higher education|             N|House / apartment|             NA|             1| 35|          11.9|       1|\n",
      "|     M|        Y|            Y|       0|     202500.0|Commercial associate|Secondary / secon...|             Y|House / apartment|       Laborers|             2| 33|           4.6|       6|\n",
      "|     M|        N|            Y|       0|     157500.0|Commercial associate|    Higher education|             Y|House / apartment|    Accountants|             2| 48|           3.0|       3|\n",
      "|     F|        N|            Y|       2|     112500.0|Commercial associate|Secondary / secon...|             Y|House / apartment|    Sales staff|             4| 33|           2.5|       3|\n",
      "+------+---------+-------------+--------+-------------+--------------------+--------------------+--------------+-----------------+---------------+--------------+---+--------------+--------+\n",
      "only showing top 20 rows\n",
      "\n"
     ]
    }
   ],
   "source": [
    "credit_df = credit_df.withColumn(\n",
    "    \"Marital_status\",\n",
    "    F.when(\n",
    "        F.col(\"Marital_status\").isin(\"Married\", \"Civil marriage\",) , \"Y\"\n",
    "    ).when(\n",
    "        F.col(\"Marital_status\").isin(\"Separated\", \"Single / not married\", \"Widow\"), \"N\"\n",
    "    ).otherwise(F.col(\"Marital_status\"))  # Keeps other values unchanged\n",
    ")\n",
    "\n",
    "credit_df.show()"
   ]
  },
  {
   "cell_type": "code",
   "execution_count": 51,
   "metadata": {},
   "outputs": [
    {
     "name": "stdout",
     "output_type": "stream",
     "text": [
      "+--------------------+\n",
      "|           EDUCATION|\n",
      "+--------------------+\n",
      "|     Academic degree|\n",
      "|   Incomplete higher|\n",
      "|Secondary / secon...|\n",
      "|     Lower secondary|\n",
      "|    Higher education|\n",
      "+--------------------+\n",
      "\n"
     ]
    }
   ],
   "source": [
    "credit_df.select(\"EDUCATION\").distinct().show()"
   ]
  },
  {
   "cell_type": "code",
   "execution_count": 52,
   "metadata": {},
   "outputs": [
    {
     "name": "stdout",
     "output_type": "stream",
     "text": [
      "+------+---------+-------------+--------+-------------+--------------------+---------+--------------+-----------------+---------------+--------------+---+--------------+--------+\n",
      "|GENDER|Car_Owner|Propert_Owner|CHILDREN|Annual_income|         Type_Income|EDUCATION|Marital_status|     Housing_type|Type_Occupation|Family_Members|age|Employed_years|FR_score|\n",
      "+------+---------+-------------+--------+-------------+--------------------+---------+--------------+-----------------+---------------+--------------+---+--------------+--------+\n",
      "|     M|        Y|            Y|       0|     180000.0|           Pensioner|     High|             Y|House / apartment|             NA|             2| 51|    unemployed|       6|\n",
      "|     F|        Y|            N|       0|     315000.0|Commercial associate|     High|             Y|House / apartment|             NA|             2| 37|           1.6|       4|\n",
      "|     F|        Y|            N|       0|     315000.0|Commercial associate|     High|             Y|House / apartment|             NA|             2| 37|           1.6|       4|\n",
      "|     F|        Y|            N|       0|     315000.0|Commercial associate|     High|             Y|House / apartment|             NA|             2| 37|           1.6|       4|\n",
      "|     F|        N|            N|       0|     180000.0|           Pensioner|      Low|             Y|House / apartment|             NA|             2| 60|    unemployed|       1|\n",
      "|     M|        Y|            Y|       1|     450000.0|Commercial associate|      Low|             Y|House / apartment|     Core staff|             3| 49|           1.9|       6|\n",
      "|     M|        Y|            Y|       1|     450000.0|           Pensioner|      Low|             Y|House / apartment|     Core staff|             3| 49|           1.9|       6|\n",
      "|     M|        Y|            Y|       1|     450000.0|Commercial associate|      Low|             N|House / apartment|     Core staff|             1| 49|           1.9|       6|\n",
      "|     F|        Y|            Y|       0|      90000.0|             Working|      Low|             Y|House / apartment|  Cooking staff|             2| 51|           2.7|       6|\n",
      "|     F|        Y|            Y|       0|      90000.0|             Working|      Low|             Y|House / apartment|  Cooking staff|             2| 51|           2.7|       6|\n",
      "|     M|        N|            N|       1|     472500.0|           Pensioner|     High|             Y|     With parents|             NA|             3| 24|           2.5|       1|\n",
      "|     M|        N|            Y|       0|     270000.0|             Working|      Low|             Y|House / apartment|       Laborers|             2| 46|           0.7|       3|\n",
      "|     M|        N|            Y|       0|     270000.0|             Working|      Low|             N|House / apartment|       Laborers|             2| 46|           0.7|       3|\n",
      "|     F|        N|            Y|       0|     126000.0|Commercial associate|     High|             N|House / apartment|    Sales staff|             1| 51|           6.8|       3|\n",
      "|     F|        N|            Y|       0|     126000.0|Commercial associate|     High|             N|House / apartment|    Sales staff|             1| 51|           6.8|       3|\n",
      "|     M|        N|            Y|       0|      90000.0|           Pensioner|      Low|             Y|House / apartment|             NA|             2| 51|           4.5|       3|\n",
      "|     M|        N|            N|       0|     202500.0|             Working|     High|             N|House / apartment|             NA|             1| 35|          11.9|       1|\n",
      "|     M|        Y|            Y|       0|     202500.0|Commercial associate|      Low|             Y|House / apartment|       Laborers|             2| 33|           4.6|       6|\n",
      "|     M|        N|            Y|       0|     157500.0|Commercial associate|     High|             Y|House / apartment|    Accountants|             2| 48|           3.0|       3|\n",
      "|     F|        N|            Y|       2|     112500.0|Commercial associate|      Low|             Y|House / apartment|    Sales staff|             4| 33|           2.5|       3|\n",
      "+------+---------+-------------+--------+-------------+--------------------+---------+--------------+-----------------+---------------+--------------+---+--------------+--------+\n",
      "only showing top 20 rows\n",
      "\n"
     ]
    }
   ],
   "source": [
    "credit_df = credit_df.withColumn(\n",
    "    \"EDUCATION\",\n",
    "    F.when(\n",
    "        F.col(\"EDUCATION\").isin(\"Academic degree\", \"Higher education\"), \"High\"\n",
    "    ).when(\n",
    "        F.col(\"EDUCATION\").isin(\"Incomplete higher\"), \"Medium\"\n",
    "    ).when(\n",
    "        F.col(\"EDUCATION\").isin(\"Lower secondary\", \"Secondary / secondary special\"), \"Low\"  \n",
    "    )\n",
    ")\n",
    "\n",
    "credit_df.show()"
   ]
  },
  {
   "cell_type": "markdown",
   "metadata": {},
   "source": [
    "Convert Type_Income into binary categories (example: \"Stable\" vs. \"Unstable\" income). "
   ]
  },
  {
   "cell_type": "code",
   "execution_count": 53,
   "metadata": {},
   "outputs": [
    {
     "name": "stdout",
     "output_type": "stream",
     "text": [
      "+------+---------+-------------+--------+-------------+-----------+---------+--------------+-----------------+---------------+--------------+---+--------------+--------+\n",
      "|GENDER|Car_Owner|Propert_Owner|CHILDREN|Annual_income|Type_Income|EDUCATION|Marital_status|     Housing_type|Type_Occupation|Family_Members|age|Employed_years|FR_score|\n",
      "+------+---------+-------------+--------+-------------+-----------+---------+--------------+-----------------+---------------+--------------+---+--------------+--------+\n",
      "|     M|        Y|            Y|       0|     180000.0|   Unstable|     High|             Y|House / apartment|             NA|             2| 51|    unemployed|       6|\n",
      "|     F|        Y|            N|       0|     315000.0|     Stable|     High|             Y|House / apartment|             NA|             2| 37|           1.6|       4|\n",
      "|     F|        Y|            N|       0|     315000.0|     Stable|     High|             Y|House / apartment|             NA|             2| 37|           1.6|       4|\n",
      "|     F|        Y|            N|       0|     315000.0|     Stable|     High|             Y|House / apartment|             NA|             2| 37|           1.6|       4|\n",
      "|     F|        N|            N|       0|     180000.0|   Unstable|      Low|             Y|House / apartment|             NA|             2| 60|    unemployed|       1|\n",
      "|     M|        Y|            Y|       1|     450000.0|     Stable|      Low|             Y|House / apartment|     Core staff|             3| 49|           1.9|       6|\n",
      "|     M|        Y|            Y|       1|     450000.0|   Unstable|      Low|             Y|House / apartment|     Core staff|             3| 49|           1.9|       6|\n",
      "|     M|        Y|            Y|       1|     450000.0|     Stable|      Low|             N|House / apartment|     Core staff|             1| 49|           1.9|       6|\n",
      "|     F|        Y|            Y|       0|      90000.0|     Stable|      Low|             Y|House / apartment|  Cooking staff|             2| 51|           2.7|       6|\n",
      "|     F|        Y|            Y|       0|      90000.0|     Stable|      Low|             Y|House / apartment|  Cooking staff|             2| 51|           2.7|       6|\n",
      "|     M|        N|            N|       1|     472500.0|   Unstable|     High|             Y|     With parents|             NA|             3| 24|           2.5|       1|\n",
      "|     M|        N|            Y|       0|     270000.0|     Stable|      Low|             Y|House / apartment|       Laborers|             2| 46|           0.7|       3|\n",
      "|     M|        N|            Y|       0|     270000.0|     Stable|      Low|             N|House / apartment|       Laborers|             2| 46|           0.7|       3|\n",
      "|     F|        N|            Y|       0|     126000.0|     Stable|     High|             N|House / apartment|    Sales staff|             1| 51|           6.8|       3|\n",
      "|     F|        N|            Y|       0|     126000.0|     Stable|     High|             N|House / apartment|    Sales staff|             1| 51|           6.8|       3|\n",
      "|     M|        N|            Y|       0|      90000.0|   Unstable|      Low|             Y|House / apartment|             NA|             2| 51|           4.5|       3|\n",
      "|     M|        N|            N|       0|     202500.0|     Stable|     High|             N|House / apartment|             NA|             1| 35|          11.9|       1|\n",
      "|     M|        Y|            Y|       0|     202500.0|     Stable|      Low|             Y|House / apartment|       Laborers|             2| 33|           4.6|       6|\n",
      "|     M|        N|            Y|       0|     157500.0|     Stable|     High|             Y|House / apartment|    Accountants|             2| 48|           3.0|       3|\n",
      "|     F|        N|            Y|       2|     112500.0|     Stable|      Low|             Y|House / apartment|    Sales staff|             4| 33|           2.5|       3|\n",
      "+------+---------+-------------+--------+-------------+-----------+---------+--------------+-----------------+---------------+--------------+---+--------------+--------+\n",
      "only showing top 20 rows\n",
      "\n"
     ]
    }
   ],
   "source": [
    "credit_df = credit_df.withColumn(\n",
    "    \"Type_Income\",\n",
    "    F.when(\n",
    "        F.col(\"Type_Income\").isin(\"Commercial associate\", \"State servant\", \"Working\"), \"Stable\"\n",
    "    ).when(\n",
    "        F.col(\"Type_Income\").isin(\"Pensioner\"), \"Unstable\"\n",
    "    ).otherwise(F.col(\"Type_Income\"))  # Keeps other values unchanged\n",
    ")\n",
    "\n",
    "credit_df.show()\n"
   ]
  },
  {
   "cell_type": "code",
   "execution_count": 54,
   "metadata": {},
   "outputs": [
    {
     "name": "stdout",
     "output_type": "stream",
     "text": [
      "Total number of unemployed: 252\n"
     ]
    }
   ],
   "source": [
    "unemployed_count = credit_df.filter(col(\"Employed_years\") == \"unemployed\").count()\n",
    "print(f\"Total number of unemployed: {unemployed_count}\")"
   ]
  },
  {
   "cell_type": "markdown",
   "metadata": {},
   "source": [
    "make type_income binary"
   ]
  },
  {
   "cell_type": "markdown",
   "metadata": {},
   "source": [
    "Convert categorical variables (e.g., GENDER, Car_Owner) into numerical format using techniques like one-hot encoding."
   ]
  },
  {
   "cell_type": "code",
   "execution_count": 55,
   "metadata": {},
   "outputs": [
    {
     "name": "stdout",
     "output_type": "stream",
     "text": [
      "+------+\n",
      "|GENDER|\n",
      "+------+\n",
      "|     F|\n",
      "|     M|\n",
      "+------+\n",
      "\n",
      "+---------+\n",
      "|Car_Owner|\n",
      "+---------+\n",
      "|        Y|\n",
      "|        N|\n",
      "+---------+\n",
      "\n",
      "+-------------+\n",
      "|Propert_Owner|\n",
      "+-------------+\n",
      "|            Y|\n",
      "|            N|\n",
      "+-------------+\n",
      "\n",
      "+-----------+\n",
      "|Type_Income|\n",
      "+-----------+\n",
      "|   Unstable|\n",
      "|     Stable|\n",
      "+-----------+\n",
      "\n",
      "+---------+\n",
      "|EDUCATION|\n",
      "+---------+\n",
      "|     High|\n",
      "|      Low|\n",
      "|   Medium|\n",
      "+---------+\n",
      "\n",
      "+--------------+\n",
      "|Marital_status|\n",
      "+--------------+\n",
      "|             Y|\n",
      "|             N|\n",
      "+--------------+\n",
      "\n",
      "+-------------------+\n",
      "|       Housing_type|\n",
      "+-------------------+\n",
      "|  House / apartment|\n",
      "|Municipal apartment|\n",
      "|    Co-op apartment|\n",
      "|   Rented apartment|\n",
      "|   Office apartment|\n",
      "|       With parents|\n",
      "+-------------------+\n",
      "\n",
      "+--------------------+\n",
      "|     Type_Occupation|\n",
      "+--------------------+\n",
      "|                  NA|\n",
      "|            Managers|\n",
      "|            HR staff|\n",
      "|      Medicine staff|\n",
      "|         Accountants|\n",
      "|            Laborers|\n",
      "|      Cleaning staff|\n",
      "|Private service s...|\n",
      "|             Drivers|\n",
      "|         Sales staff|\n",
      "|       Realty agents|\n",
      "|            IT staff|\n",
      "|      Security staff|\n",
      "|         Secretaries|\n",
      "|  Low-skill Laborers|\n",
      "|          Core staff|\n",
      "|       Cooking staff|\n",
      "|High skill tech s...|\n",
      "|Waiters/barmen staff|\n",
      "+--------------------+\n",
      "\n"
     ]
    }
   ],
   "source": [
    "categorical_features = ['GENDER', 'Car_Owner', 'Propert_Owner', 'Type_Income', 'EDUCATION', 'Marital_status', 'Housing_type', 'Type_Occupation']\n",
    "\n",
    "for column in categorical_features:\n",
    "    credit_df.select(column).distinct().show()"
   ]
  },
  {
   "cell_type": "markdown",
   "metadata": {},
   "source": [
    "CREATE NEW FEATURE INCOME FAMILY MEMBER"
   ]
  },
  {
   "cell_type": "markdown",
   "metadata": {},
   "source": [
    "Create new features (e.g., Income per Family Member = Annual_income / Family_Members). "
   ]
  },
  {
   "cell_type": "code",
   "execution_count": 56,
   "metadata": {},
   "outputs": [],
   "source": [
    "credit_df = credit_df.withColumn(\n",
    "    \"Family_Members\",\n",
    "    when(col(\"Family_Members\").isNull(), 1).otherwise(col(\"Family_Members\"))  # Replace nulls with 1\n",
    ")\n",
    "\n",
    "credit_df = credit_df.withColumn(\n",
    "    \"Income_per_Family_Member\",\n",
    "    when(col(\"Family_Members\") > 0, col(\"Annual_income\") / col(\"Family_Members\"))\n",
    "    .otherwise(col(\"Annual_income\"))  # If Family_Members is 0, just use Annual_income\n",
    ")"
   ]
  },
  {
   "cell_type": "code",
   "execution_count": 57,
   "metadata": {},
   "outputs": [
    {
     "name": "stdout",
     "output_type": "stream",
     "text": [
      "+------------------------+\n",
      "|Income_per_Family_Member|\n",
      "+------------------------+\n",
      "|                 90000.0|\n",
      "|                157500.0|\n",
      "|                157500.0|\n",
      "|                157500.0|\n",
      "|                 90000.0|\n",
      "+------------------------+\n",
      "only showing top 5 rows\n",
      "\n"
     ]
    }
   ],
   "source": [
    "credit_df.select(\"Income_per_Family_Member\").show(5)"
   ]
  },
  {
   "cell_type": "code",
   "execution_count": 58,
   "metadata": {},
   "outputs": [
    {
     "name": "stdout",
     "output_type": "stream",
     "text": [
      "+------------------------+----------------------------+\n",
      "|Income_per_Family_Member|Income_per_Family_Member_vec|\n",
      "+------------------------+----------------------------+\n",
      "|90000.0                 |[90000.0]                   |\n",
      "|157500.0                |[157500.0]                  |\n",
      "|157500.0                |[157500.0]                  |\n",
      "|157500.0                |[157500.0]                  |\n",
      "|90000.0                 |[90000.0]                   |\n",
      "+------------------------+----------------------------+\n",
      "only showing top 5 rows\n",
      "\n"
     ]
    }
   ],
   "source": [
    "income_assembler = VectorAssembler(\n",
    "    inputCols=[\"Income_per_Family_Member\"], \n",
    "    outputCol=\"Income_per_Family_Member_vec\"\n",
    ")\n",
    "credit_df = income_assembler.transform(credit_df)\n",
    "\n",
    "# Verify\n",
    "credit_df.select(\"Income_per_Family_Member\", \"Income_per_Family_Member_vec\").show(5, truncate=False)"
   ]
  },
  {
   "cell_type": "code",
   "execution_count": 59,
   "metadata": {},
   "outputs": [
    {
     "name": "stdout",
     "output_type": "stream",
     "text": [
      "root\n",
      " |-- GENDER: string (nullable = true)\n",
      " |-- Car_Owner: string (nullable = true)\n",
      " |-- Propert_Owner: string (nullable = true)\n",
      " |-- CHILDREN: integer (nullable = true)\n",
      " |-- Annual_income: double (nullable = true)\n",
      " |-- Type_Income: string (nullable = true)\n",
      " |-- EDUCATION: string (nullable = true)\n",
      " |-- Marital_status: string (nullable = true)\n",
      " |-- Housing_type: string (nullable = true)\n",
      " |-- Type_Occupation: string (nullable = false)\n",
      " |-- Family_Members: integer (nullable = true)\n",
      " |-- age: integer (nullable = true)\n",
      " |-- Employed_years: string (nullable = true)\n",
      " |-- FR_score: integer (nullable = false)\n",
      " |-- Income_per_Family_Member: double (nullable = true)\n",
      " |-- Income_per_Family_Member_vec: vector (nullable = true)\n",
      "\n"
     ]
    }
   ],
   "source": [
    "credit_df.printSchema()"
   ]
  },
  {
   "cell_type": "code",
   "execution_count": 60,
   "metadata": {},
   "outputs": [],
   "source": [
    "# Divide the subset of data into categorical and numerical\n",
    "categorical_features = ['GENDER', 'Car_Owner', 'Propert_Owner', 'Type_Income', 'EDUCATION', 'Marital_status', 'Housing_type', 'Type_Occupation']\n",
    "numeric_features = [\"CHILDREN\", \"Annual_income\", \"Family_Members\", \"age\", \"Employed_years\", \"FR_score\", \"Income_per_Family_Member_vec\"]"
   ]
  },
  {
   "cell_type": "markdown",
   "metadata": {},
   "source": [
    "ONE HOT ENCODER FOR ALL CAHTHEGORICAL VALUES "
   ]
  },
  {
   "cell_type": "code",
   "execution_count": 61,
   "metadata": {},
   "outputs": [],
   "source": [
    "stages = [] #FOR PIPLINE STAGES\n",
    "\n",
    "for cat_feature in categorical_features:\n",
    "    string_indexer = StringIndexer(inputCol = cat_feature, outputCol = f\"{cat_feature}Index\")\n",
    "    encoder = OneHotEncoder(inputCol= f\"{cat_feature}Index\", outputCol= f\"{cat_feature}Vec\")\n",
    "    stages += [string_indexer, encoder] #FIRST STRING INDEXER AND THEN HOT ENCODER LIKE APPENDING TO THE LIST SATGES []\n",
    "\n",
    "#STRING INDEXER AND HOT ENCODER FOR CATEGORICAL FEATURES"
   ]
  },
  {
   "cell_type": "code",
   "execution_count": 62,
   "metadata": {},
   "outputs": [],
   "source": [
    "all_features = numeric_features + [f\"{cat}Vec\" for cat in categorical_features] #ADD ALL CATEGORICAL FEATURES TO NUMERIC FEATURES VECTOR EXTENTION\n",
    "\n",
    "assembler = VectorAssembler (inputCols = all_features, outputCol = \"features\" ) # PUTTING ALL FEATURES INTO ONE VECTOR DEFULT NAME ON OUTPUT COL IS FEATURES\n",
    "\n",
    "stages += [assembler] #APPEND ASSEMBLER TO STAGES FOR PIPELINE\n",
    "\n",
    "# PIPELINE FOR ALL STAGES TO CREATE A PIPELINE MODEL LIKE A CONTAINER FOR ALL STAGES PROCESS FLOW\n",
    "\n"
   ]
  },
  {
   "cell_type": "markdown",
   "metadata": {},
   "source": [
    "Creating new features \"Age\" from Birthday_count and vectorizing the value"
   ]
  },
  {
   "cell_type": "code",
   "execution_count": 63,
   "metadata": {},
   "outputs": [
    {
     "name": "stdout",
     "output_type": "stream",
     "text": [
      "+------+---------+-------------+--------+-------------+-----------+---------+--------------+-----------------+---------------+--------------+---+--------------+--------+------------------------+----------------------------+-------+\n",
      "|GENDER|Car_Owner|Propert_Owner|CHILDREN|Annual_income|Type_Income|EDUCATION|Marital_status|     Housing_type|Type_Occupation|Family_Members|age|Employed_years|FR_score|Income_per_Family_Member|Income_per_Family_Member_vec|age_vec|\n",
      "+------+---------+-------------+--------+-------------+-----------+---------+--------------+-----------------+---------------+--------------+---+--------------+--------+------------------------+----------------------------+-------+\n",
      "|     M|        Y|            Y|       0|     180000.0|   Unstable|     High|             Y|House / apartment|             NA|             2| 51|    unemployed|       6|                 90000.0|                   [90000.0]| [51.0]|\n",
      "|     F|        Y|            N|       0|     315000.0|     Stable|     High|             Y|House / apartment|             NA|             2| 37|           1.6|       4|                157500.0|                  [157500.0]| [37.0]|\n",
      "|     F|        Y|            N|       0|     315000.0|     Stable|     High|             Y|House / apartment|             NA|             2| 37|           1.6|       4|                157500.0|                  [157500.0]| [37.0]|\n",
      "|     F|        Y|            N|       0|     315000.0|     Stable|     High|             Y|House / apartment|             NA|             2| 37|           1.6|       4|                157500.0|                  [157500.0]| [37.0]|\n",
      "|     F|        N|            N|       0|     180000.0|   Unstable|      Low|             Y|House / apartment|             NA|             2| 60|    unemployed|       1|                 90000.0|                   [90000.0]| [60.0]|\n",
      "|     M|        Y|            Y|       1|     450000.0|     Stable|      Low|             Y|House / apartment|     Core staff|             3| 49|           1.9|       6|                150000.0|                  [150000.0]| [49.0]|\n",
      "|     M|        Y|            Y|       1|     450000.0|   Unstable|      Low|             Y|House / apartment|     Core staff|             3| 49|           1.9|       6|                150000.0|                  [150000.0]| [49.0]|\n",
      "|     M|        Y|            Y|       1|     450000.0|     Stable|      Low|             N|House / apartment|     Core staff|             1| 49|           1.9|       6|                450000.0|                  [450000.0]| [49.0]|\n",
      "|     F|        Y|            Y|       0|      90000.0|     Stable|      Low|             Y|House / apartment|  Cooking staff|             2| 51|           2.7|       6|                 45000.0|                   [45000.0]| [51.0]|\n",
      "|     F|        Y|            Y|       0|      90000.0|     Stable|      Low|             Y|House / apartment|  Cooking staff|             2| 51|           2.7|       6|                 45000.0|                   [45000.0]| [51.0]|\n",
      "|     M|        N|            N|       1|     472500.0|   Unstable|     High|             Y|     With parents|             NA|             3| 24|           2.5|       1|                157500.0|                  [157500.0]| [24.0]|\n",
      "|     M|        N|            Y|       0|     270000.0|     Stable|      Low|             Y|House / apartment|       Laborers|             2| 46|           0.7|       3|                135000.0|                  [135000.0]| [46.0]|\n",
      "|     M|        N|            Y|       0|     270000.0|     Stable|      Low|             N|House / apartment|       Laborers|             2| 46|           0.7|       3|                135000.0|                  [135000.0]| [46.0]|\n",
      "|     F|        N|            Y|       0|     126000.0|     Stable|     High|             N|House / apartment|    Sales staff|             1| 51|           6.8|       3|                126000.0|                  [126000.0]| [51.0]|\n",
      "|     F|        N|            Y|       0|     126000.0|     Stable|     High|             N|House / apartment|    Sales staff|             1| 51|           6.8|       3|                126000.0|                  [126000.0]| [51.0]|\n",
      "|     M|        N|            Y|       0|      90000.0|   Unstable|      Low|             Y|House / apartment|             NA|             2| 51|           4.5|       3|                 45000.0|                   [45000.0]| [51.0]|\n",
      "|     M|        N|            N|       0|     202500.0|     Stable|     High|             N|House / apartment|             NA|             1| 35|          11.9|       1|                202500.0|                  [202500.0]| [35.0]|\n",
      "|     M|        Y|            Y|       0|     202500.0|     Stable|      Low|             Y|House / apartment|       Laborers|             2| 33|           4.6|       6|                101250.0|                  [101250.0]| [33.0]|\n",
      "|     M|        N|            Y|       0|     157500.0|     Stable|     High|             Y|House / apartment|    Accountants|             2| 48|           3.0|       3|                 78750.0|                   [78750.0]| [48.0]|\n",
      "|     F|        N|            Y|       2|     112500.0|     Stable|      Low|             Y|House / apartment|    Sales staff|             4| 33|           2.5|       3|                 28125.0|                   [28125.0]| [33.0]|\n",
      "+------+---------+-------------+--------+-------------+-----------+---------+--------------+-----------------+---------------+--------------+---+--------------+--------+------------------------+----------------------------+-------+\n",
      "only showing top 20 rows\n",
      "\n"
     ]
    }
   ],
   "source": [
    "age_features = VectorAssembler(inputCols=[\"age\"], outputCol=\"age_vec\")\n",
    "\n",
    "credit_df = age_features.transform(credit_df)\n",
    "\n",
    "credit_df.show()"
   ]
  },
  {
   "cell_type": "markdown",
   "metadata": {},
   "source": [
    "ABOVE DATA SET IS CLEAN AND NORMALIZED WITH HIGH QUALITY - NOW IS READY FOR A DEVELOPMENT INTO THE MODEL"
   ]
  },
  {
   "cell_type": "markdown",
   "metadata": {},
   "source": [
    "WORKING ON NORMALIZING MORE FEATURE FOR A BETTER MODEL"
   ]
  },
  {
   "cell_type": "code",
   "execution_count": 64,
   "metadata": {},
   "outputs": [
    {
     "name": "stdout",
     "output_type": "stream",
     "text": [
      "+------+---------+-------------+--------+-------------+-----------+---------+--------------+-----------------+---------------+--------------+---+--------------+--------+------------------------+----------------------------+-------+\n",
      "|GENDER|Car_Owner|Propert_Owner|CHILDREN|Annual_income|Type_Income|EDUCATION|Marital_status|     Housing_type|Type_Occupation|Family_Members|age|Employed_years|FR_score|Income_per_Family_Member|Income_per_Family_Member_vec|age_vec|\n",
      "+------+---------+-------------+--------+-------------+-----------+---------+--------------+-----------------+---------------+--------------+---+--------------+--------+------------------------+----------------------------+-------+\n",
      "|     M|        Y|            Y|       0|     180000.0|   Unstable|     High|             Y|House / apartment|             NA|             2| 51|             0|       6|                 90000.0|                   [90000.0]| [51.0]|\n",
      "|     F|        Y|            N|       0|     315000.0|     Stable|     High|             Y|House / apartment|             NA|             2| 37|           1.6|       4|                157500.0|                  [157500.0]| [37.0]|\n",
      "|     F|        Y|            N|       0|     315000.0|     Stable|     High|             Y|House / apartment|             NA|             2| 37|           1.6|       4|                157500.0|                  [157500.0]| [37.0]|\n",
      "|     F|        Y|            N|       0|     315000.0|     Stable|     High|             Y|House / apartment|             NA|             2| 37|           1.6|       4|                157500.0|                  [157500.0]| [37.0]|\n",
      "|     F|        N|            N|       0|     180000.0|   Unstable|      Low|             Y|House / apartment|             NA|             2| 60|             0|       1|                 90000.0|                   [90000.0]| [60.0]|\n",
      "|     M|        Y|            Y|       1|     450000.0|     Stable|      Low|             Y|House / apartment|     Core staff|             3| 49|           1.9|       6|                150000.0|                  [150000.0]| [49.0]|\n",
      "|     M|        Y|            Y|       1|     450000.0|   Unstable|      Low|             Y|House / apartment|     Core staff|             3| 49|           1.9|       6|                150000.0|                  [150000.0]| [49.0]|\n",
      "|     M|        Y|            Y|       1|     450000.0|     Stable|      Low|             N|House / apartment|     Core staff|             1| 49|           1.9|       6|                450000.0|                  [450000.0]| [49.0]|\n",
      "|     F|        Y|            Y|       0|      90000.0|     Stable|      Low|             Y|House / apartment|  Cooking staff|             2| 51|           2.7|       6|                 45000.0|                   [45000.0]| [51.0]|\n",
      "|     F|        Y|            Y|       0|      90000.0|     Stable|      Low|             Y|House / apartment|  Cooking staff|             2| 51|           2.7|       6|                 45000.0|                   [45000.0]| [51.0]|\n",
      "|     M|        N|            N|       1|     472500.0|   Unstable|     High|             Y|     With parents|             NA|             3| 24|           2.5|       1|                157500.0|                  [157500.0]| [24.0]|\n",
      "|     M|        N|            Y|       0|     270000.0|     Stable|      Low|             Y|House / apartment|       Laborers|             2| 46|           0.7|       3|                135000.0|                  [135000.0]| [46.0]|\n",
      "|     M|        N|            Y|       0|     270000.0|     Stable|      Low|             N|House / apartment|       Laborers|             2| 46|           0.7|       3|                135000.0|                  [135000.0]| [46.0]|\n",
      "|     F|        N|            Y|       0|     126000.0|     Stable|     High|             N|House / apartment|    Sales staff|             1| 51|           6.8|       3|                126000.0|                  [126000.0]| [51.0]|\n",
      "|     F|        N|            Y|       0|     126000.0|     Stable|     High|             N|House / apartment|    Sales staff|             1| 51|           6.8|       3|                126000.0|                  [126000.0]| [51.0]|\n",
      "|     M|        N|            Y|       0|      90000.0|   Unstable|      Low|             Y|House / apartment|             NA|             2| 51|           4.5|       3|                 45000.0|                   [45000.0]| [51.0]|\n",
      "|     M|        N|            N|       0|     202500.0|     Stable|     High|             N|House / apartment|             NA|             1| 35|          11.9|       1|                202500.0|                  [202500.0]| [35.0]|\n",
      "|     M|        Y|            Y|       0|     202500.0|     Stable|      Low|             Y|House / apartment|       Laborers|             2| 33|           4.6|       6|                101250.0|                  [101250.0]| [33.0]|\n",
      "|     M|        N|            Y|       0|     157500.0|     Stable|     High|             Y|House / apartment|    Accountants|             2| 48|           3.0|       3|                 78750.0|                   [78750.0]| [48.0]|\n",
      "|     F|        N|            Y|       2|     112500.0|     Stable|      Low|             Y|House / apartment|    Sales staff|             4| 33|           2.5|       3|                 28125.0|                   [28125.0]| [33.0]|\n",
      "+------+---------+-------------+--------+-------------+-----------+---------+--------------+-----------------+---------------+--------------+---+--------------+--------+------------------------+----------------------------+-------+\n",
      "only showing top 20 rows\n",
      "\n"
     ]
    }
   ],
   "source": [
    "credit_df = credit_df.withColumn(\"Employed_years\", when(col(\"Employed_years\") == \"unemployed\", 0).otherwise(col(\"Employed_years\")))\n",
    "credit_df.show()"
   ]
  },
  {
   "cell_type": "markdown",
   "metadata": {},
   "source": [
    "StringIndexer is used to convert categorical string values into numerical indices.\n",
    "It takes inputCol (original categorical column) and creates outputCol (column with numeric index).\n",
    "This is done for each column in categorical_columns, creating a list of indexers.\n",
    "\n",
    "OneHotEncoder takes the indexed column (column+\"_index\") and converts it into a one-hot encoded vector.\n",
    "This is useful for machine learning models that work better with numerical data.\n",
    "\n",
    "A Pipeline is created with both StringIndexer and OneHotEncoder as stages.\n",
    "fit(credit_df) learns from the dataset (e.g., assigns indices).\n",
    "transform(credit_df) applies the transformations to the dataset."
   ]
  },
  {
   "cell_type": "markdown",
   "metadata": {},
   "source": [
    " Convert categorical variables (e.g., GENDER, Car_Owner) into numerical format using techniques like one-hot encoding. "
   ]
  },
  {
   "cell_type": "code",
   "execution_count": 65,
   "metadata": {},
   "outputs": [
    {
     "name": "stdout",
     "output_type": "stream",
     "text": [
      "+------+---------+-------------+--------+-------------+-----------+---------+--------------+-----------------+---------------+--------------+---+--------------+--------+------------------------+----------------------------+-------+------------+---------------+-------------------+-----------------+---------------+--------------------+------------------+---------------------+-------------+-------------+-----------------+---------------+-------------+------------------+----------------+-------------------+\n",
      "|GENDER|Car_Owner|Propert_Owner|CHILDREN|Annual_income|Type_Income|EDUCATION|Marital_status|     Housing_type|Type_Occupation|Family_Members|age|Employed_years|FR_score|Income_per_Family_Member|Income_per_Family_Member_vec|age_vec|GENDER_index|Car_Owner_index|Propert_Owner_index|Type_Income_index|EDUCATION_index|Marital_status_index|Housing_type_index|Type_Occupation_index|   GENDER_vec|Car_Owner_vec|Propert_Owner_vec|Type_Income_vec|EDUCATION_vec|Marital_status_vec|Housing_type_vec|Type_Occupation_vec|\n",
      "+------+---------+-------------+--------+-------------+-----------+---------+--------------+-----------------+---------------+--------------+---+--------------+--------+------------------------+----------------------------+-------+------------+---------------+-------------------+-----------------+---------------+--------------------+------------------+---------------------+-------------+-------------+-----------------+---------------+-------------+------------------+----------------+-------------------+\n",
      "|     M|        Y|            Y|       0|     180000.0|   Unstable|     High|             Y|House / apartment|             NA|             2| 51|             0|       6|                 90000.0|                   [90000.0]| [51.0]|         1.0|            1.0|                0.0|              1.0|            1.0|                 0.0|               0.0|                  0.0|    (1,[],[])|    (1,[],[])|    (1,[0],[1.0])|      (1,[],[])|(2,[1],[1.0])|     (1,[0],[1.0])|   (5,[0],[1.0])|     (18,[0],[1.0])|\n",
      "|     F|        Y|            N|       0|     315000.0|     Stable|     High|             Y|House / apartment|             NA|             2| 37|           1.6|       4|                157500.0|                  [157500.0]| [37.0]|         0.0|            1.0|                1.0|              0.0|            1.0|                 0.0|               0.0|                  0.0|(1,[0],[1.0])|    (1,[],[])|        (1,[],[])|  (1,[0],[1.0])|(2,[1],[1.0])|     (1,[0],[1.0])|   (5,[0],[1.0])|     (18,[0],[1.0])|\n",
      "|     F|        Y|            N|       0|     315000.0|     Stable|     High|             Y|House / apartment|             NA|             2| 37|           1.6|       4|                157500.0|                  [157500.0]| [37.0]|         0.0|            1.0|                1.0|              0.0|            1.0|                 0.0|               0.0|                  0.0|(1,[0],[1.0])|    (1,[],[])|        (1,[],[])|  (1,[0],[1.0])|(2,[1],[1.0])|     (1,[0],[1.0])|   (5,[0],[1.0])|     (18,[0],[1.0])|\n",
      "|     F|        Y|            N|       0|     315000.0|     Stable|     High|             Y|House / apartment|             NA|             2| 37|           1.6|       4|                157500.0|                  [157500.0]| [37.0]|         0.0|            1.0|                1.0|              0.0|            1.0|                 0.0|               0.0|                  0.0|(1,[0],[1.0])|    (1,[],[])|        (1,[],[])|  (1,[0],[1.0])|(2,[1],[1.0])|     (1,[0],[1.0])|   (5,[0],[1.0])|     (18,[0],[1.0])|\n",
      "|     F|        N|            N|       0|     180000.0|   Unstable|      Low|             Y|House / apartment|             NA|             2| 60|             0|       1|                 90000.0|                   [90000.0]| [60.0]|         0.0|            0.0|                1.0|              1.0|            0.0|                 0.0|               0.0|                  0.0|(1,[0],[1.0])|(1,[0],[1.0])|        (1,[],[])|      (1,[],[])|(2,[0],[1.0])|     (1,[0],[1.0])|   (5,[0],[1.0])|     (18,[0],[1.0])|\n",
      "|     M|        Y|            Y|       1|     450000.0|     Stable|      Low|             Y|House / apartment|     Core staff|             3| 49|           1.9|       6|                150000.0|                  [150000.0]| [49.0]|         1.0|            1.0|                0.0|              0.0|            0.0|                 0.0|               0.0|                  2.0|    (1,[],[])|    (1,[],[])|    (1,[0],[1.0])|  (1,[0],[1.0])|(2,[0],[1.0])|     (1,[0],[1.0])|   (5,[0],[1.0])|     (18,[2],[1.0])|\n",
      "|     M|        Y|            Y|       1|     450000.0|   Unstable|      Low|             Y|House / apartment|     Core staff|             3| 49|           1.9|       6|                150000.0|                  [150000.0]| [49.0]|         1.0|            1.0|                0.0|              1.0|            0.0|                 0.0|               0.0|                  2.0|    (1,[],[])|    (1,[],[])|    (1,[0],[1.0])|      (1,[],[])|(2,[0],[1.0])|     (1,[0],[1.0])|   (5,[0],[1.0])|     (18,[2],[1.0])|\n",
      "|     M|        Y|            Y|       1|     450000.0|     Stable|      Low|             N|House / apartment|     Core staff|             1| 49|           1.9|       6|                450000.0|                  [450000.0]| [49.0]|         1.0|            1.0|                0.0|              0.0|            0.0|                 1.0|               0.0|                  2.0|    (1,[],[])|    (1,[],[])|    (1,[0],[1.0])|  (1,[0],[1.0])|(2,[0],[1.0])|         (1,[],[])|   (5,[0],[1.0])|     (18,[2],[1.0])|\n",
      "|     F|        Y|            Y|       0|      90000.0|     Stable|      Low|             Y|House / apartment|  Cooking staff|             2| 51|           2.7|       6|                 45000.0|                   [45000.0]| [51.0]|         0.0|            1.0|                0.0|              0.0|            0.0|                 0.0|               0.0|                 11.0|(1,[0],[1.0])|    (1,[],[])|    (1,[0],[1.0])|  (1,[0],[1.0])|(2,[0],[1.0])|     (1,[0],[1.0])|   (5,[0],[1.0])|    (18,[11],[1.0])|\n",
      "|     F|        Y|            Y|       0|      90000.0|     Stable|      Low|             Y|House / apartment|  Cooking staff|             2| 51|           2.7|       6|                 45000.0|                   [45000.0]| [51.0]|         0.0|            1.0|                0.0|              0.0|            0.0|                 0.0|               0.0|                 11.0|(1,[0],[1.0])|    (1,[],[])|    (1,[0],[1.0])|  (1,[0],[1.0])|(2,[0],[1.0])|     (1,[0],[1.0])|   (5,[0],[1.0])|    (18,[11],[1.0])|\n",
      "|     M|        N|            N|       1|     472500.0|   Unstable|     High|             Y|     With parents|             NA|             3| 24|           2.5|       1|                157500.0|                  [157500.0]| [24.0]|         1.0|            0.0|                1.0|              1.0|            1.0|                 0.0|               1.0|                  0.0|    (1,[],[])|(1,[0],[1.0])|        (1,[],[])|      (1,[],[])|(2,[1],[1.0])|     (1,[0],[1.0])|   (5,[1],[1.0])|     (18,[0],[1.0])|\n",
      "|     M|        N|            Y|       0|     270000.0|     Stable|      Low|             Y|House / apartment|       Laborers|             2| 46|           0.7|       3|                135000.0|                  [135000.0]| [46.0]|         1.0|            0.0|                0.0|              0.0|            0.0|                 0.0|               0.0|                  1.0|    (1,[],[])|(1,[0],[1.0])|    (1,[0],[1.0])|  (1,[0],[1.0])|(2,[0],[1.0])|     (1,[0],[1.0])|   (5,[0],[1.0])|     (18,[1],[1.0])|\n",
      "|     M|        N|            Y|       0|     270000.0|     Stable|      Low|             N|House / apartment|       Laborers|             2| 46|           0.7|       3|                135000.0|                  [135000.0]| [46.0]|         1.0|            0.0|                0.0|              0.0|            0.0|                 1.0|               0.0|                  1.0|    (1,[],[])|(1,[0],[1.0])|    (1,[0],[1.0])|  (1,[0],[1.0])|(2,[0],[1.0])|         (1,[],[])|   (5,[0],[1.0])|     (18,[1],[1.0])|\n",
      "|     F|        N|            Y|       0|     126000.0|     Stable|     High|             N|House / apartment|    Sales staff|             1| 51|           6.8|       3|                126000.0|                  [126000.0]| [51.0]|         0.0|            0.0|                0.0|              0.0|            1.0|                 1.0|               0.0|                  4.0|(1,[0],[1.0])|(1,[0],[1.0])|    (1,[0],[1.0])|  (1,[0],[1.0])|(2,[1],[1.0])|         (1,[],[])|   (5,[0],[1.0])|     (18,[4],[1.0])|\n",
      "|     F|        N|            Y|       0|     126000.0|     Stable|     High|             N|House / apartment|    Sales staff|             1| 51|           6.8|       3|                126000.0|                  [126000.0]| [51.0]|         0.0|            0.0|                0.0|              0.0|            1.0|                 1.0|               0.0|                  4.0|(1,[0],[1.0])|(1,[0],[1.0])|    (1,[0],[1.0])|  (1,[0],[1.0])|(2,[1],[1.0])|         (1,[],[])|   (5,[0],[1.0])|     (18,[4],[1.0])|\n",
      "|     M|        N|            Y|       0|      90000.0|   Unstable|      Low|             Y|House / apartment|             NA|             2| 51|           4.5|       3|                 45000.0|                   [45000.0]| [51.0]|         1.0|            0.0|                0.0|              1.0|            0.0|                 0.0|               0.0|                  0.0|    (1,[],[])|(1,[0],[1.0])|    (1,[0],[1.0])|      (1,[],[])|(2,[0],[1.0])|     (1,[0],[1.0])|   (5,[0],[1.0])|     (18,[0],[1.0])|\n",
      "|     M|        N|            N|       0|     202500.0|     Stable|     High|             N|House / apartment|             NA|             1| 35|          11.9|       1|                202500.0|                  [202500.0]| [35.0]|         1.0|            0.0|                1.0|              0.0|            1.0|                 1.0|               0.0|                  0.0|    (1,[],[])|(1,[0],[1.0])|        (1,[],[])|  (1,[0],[1.0])|(2,[1],[1.0])|         (1,[],[])|   (5,[0],[1.0])|     (18,[0],[1.0])|\n",
      "|     M|        Y|            Y|       0|     202500.0|     Stable|      Low|             Y|House / apartment|       Laborers|             2| 33|           4.6|       6|                101250.0|                  [101250.0]| [33.0]|         1.0|            1.0|                0.0|              0.0|            0.0|                 0.0|               0.0|                  1.0|    (1,[],[])|    (1,[],[])|    (1,[0],[1.0])|  (1,[0],[1.0])|(2,[0],[1.0])|     (1,[0],[1.0])|   (5,[0],[1.0])|     (18,[1],[1.0])|\n",
      "|     M|        N|            Y|       0|     157500.0|     Stable|     High|             Y|House / apartment|    Accountants|             2| 48|           3.0|       3|                 78750.0|                   [78750.0]| [48.0]|         1.0|            0.0|                0.0|              0.0|            1.0|                 0.0|               0.0|                  8.0|    (1,[],[])|(1,[0],[1.0])|    (1,[0],[1.0])|  (1,[0],[1.0])|(2,[1],[1.0])|     (1,[0],[1.0])|   (5,[0],[1.0])|     (18,[8],[1.0])|\n",
      "|     F|        N|            Y|       2|     112500.0|     Stable|      Low|             Y|House / apartment|    Sales staff|             4| 33|           2.5|       3|                 28125.0|                   [28125.0]| [33.0]|         0.0|            0.0|                0.0|              0.0|            0.0|                 0.0|               0.0|                  4.0|(1,[0],[1.0])|(1,[0],[1.0])|    (1,[0],[1.0])|  (1,[0],[1.0])|(2,[0],[1.0])|     (1,[0],[1.0])|   (5,[0],[1.0])|     (18,[4],[1.0])|\n",
      "+------+---------+-------------+--------+-------------+-----------+---------+--------------+-----------------+---------------+--------------+---+--------------+--------+------------------------+----------------------------+-------+------------+---------------+-------------------+-----------------+---------------+--------------------+------------------+---------------------+-------------+-------------+-----------------+---------------+-------------+------------------+----------------+-------------------+\n",
      "only showing top 20 rows\n",
      "\n"
     ]
    }
   ],
   "source": [
    "feature_indexers = [StringIndexer(inputCol=column, outputCol=column+\"_index\") for column in categorical_features]\n",
    "\n",
    "feature_encoders = [OneHotEncoder(inputCol=column+\"_index\", outputCol=column+\"_vec\") for column in categorical_features]\n",
    "\n",
    "pipeline = Pipeline(stages=feature_indexers + feature_encoders)\n",
    "\n",
    "credit_df = pipeline.fit(credit_df).transform(credit_df)\n",
    "\n",
    "credit_df.show()"
   ]
  },
  {
   "cell_type": "markdown",
   "metadata": {},
   "source": [
    "MODEL DEVELOPMENT - USE SPARK LINEAR REGRESSION OR RANDOM FOREST REGRESSION ALGORITHMS "
   ]
  },
  {
   "cell_type": "markdown",
   "metadata": {},
   "source": [
    "prepare the data for simple linear regression"
   ]
  },
  {
   "cell_type": "code",
   "execution_count": 66,
   "metadata": {},
   "outputs": [
    {
     "name": "stdout",
     "output_type": "stream",
     "text": [
      "+------------------------+---+--------------+---------+--------+---------------+--------------+-------------+\n",
      "|Income_per_Family_Member|Age|Employed_years|EDUCATION|FR_score|Type_Occupation|Family_Members|Annual_income|\n",
      "+------------------------+---+--------------+---------+--------+---------------+--------------+-------------+\n",
      "|                 90000.0| 51|             0|     High|       6|             NA|             2|     180000.0|\n",
      "|                157500.0| 37|           1.6|     High|       4|             NA|             2|     315000.0|\n",
      "|                157500.0| 37|           1.6|     High|       4|             NA|             2|     315000.0|\n",
      "|                157500.0| 37|           1.6|     High|       4|             NA|             2|     315000.0|\n",
      "|                 90000.0| 60|             0|      Low|       1|             NA|             2|     180000.0|\n",
      "|                150000.0| 49|           1.9|      Low|       6|     Core staff|             3|     450000.0|\n",
      "|                150000.0| 49|           1.9|      Low|       6|     Core staff|             3|     450000.0|\n",
      "|                450000.0| 49|           1.9|      Low|       6|     Core staff|             1|     450000.0|\n",
      "|                 45000.0| 51|           2.7|      Low|       6|  Cooking staff|             2|      90000.0|\n",
      "|                 45000.0| 51|           2.7|      Low|       6|  Cooking staff|             2|      90000.0|\n",
      "|                157500.0| 24|           2.5|     High|       1|             NA|             3|     472500.0|\n",
      "|                135000.0| 46|           0.7|      Low|       3|       Laborers|             2|     270000.0|\n",
      "|                135000.0| 46|           0.7|      Low|       3|       Laborers|             2|     270000.0|\n",
      "|                126000.0| 51|           6.8|     High|       3|    Sales staff|             1|     126000.0|\n",
      "|                126000.0| 51|           6.8|     High|       3|    Sales staff|             1|     126000.0|\n",
      "|                 45000.0| 51|           4.5|      Low|       3|             NA|             2|      90000.0|\n",
      "|                202500.0| 35|          11.9|     High|       1|             NA|             1|     202500.0|\n",
      "|                101250.0| 33|           4.6|      Low|       6|       Laborers|             2|     202500.0|\n",
      "|                 78750.0| 48|           3.0|     High|       3|    Accountants|             2|     157500.0|\n",
      "|                 28125.0| 33|           2.5|      Low|       3|    Sales staff|             4|     112500.0|\n",
      "+------------------------+---+--------------+---------+--------+---------------+--------------+-------------+\n",
      "only showing top 20 rows\n",
      "\n"
     ]
    }
   ],
   "source": [
    "df_SLR = credit_df.select(\"Income_per_Family_Member\",\"Age\", \"Employed_years\", \"EDUCATION\", \"FR_score\", \"Type_Occupation\", \"Family_Members\", \"Annual_income\")\n",
    "\n",
    "df_SLR.show()"
   ]
  },
  {
   "cell_type": "code",
   "execution_count": 67,
   "metadata": {},
   "outputs": [],
   "source": [
    "feature_cols = [\"Income_per_Family_Member\", \"Age\",\"FR_score\", \"Family_Members\"]\n",
    "\n",
    "assembler = VectorAssembler(inputCols=feature_cols, outputCol=\"features\")\n",
    "\n",
    "df_SLR = assembler.transform(df_SLR)"
   ]
  },
  {
   "cell_type": "markdown",
   "metadata": {},
   "source": [
    "SPLIT DATA IN TRAINING AND TESTING SETS"
   ]
  },
  {
   "cell_type": "code",
   "execution_count": 68,
   "metadata": {},
   "outputs": [],
   "source": [
    "train_data, test_data = df_SLR.randomSplit([0.8, 0.2], seed=42)\n"
   ]
  },
  {
   "cell_type": "code",
   "execution_count": 69,
   "metadata": {},
   "outputs": [],
   "source": [
    "SLR = LinearRegression (featuresCol= \"features\", labelCol=\"Annual_income\")\n",
    "\n",
    "\n",
    "LR_MODEL = SLR.fit(train_data)"
   ]
  },
  {
   "cell_type": "code",
   "execution_count": 70,
   "metadata": {},
   "outputs": [
    {
     "name": "stdout",
     "output_type": "stream",
     "text": [
      "The coeffcient of this model is: [1.4267269673197902,-52.51915087513331,4299.468945807435,60052.477716801644]\n",
      "The intercept of this model is: -100231.70973324728\n"
     ]
    }
   ],
   "source": [
    "coef = LR_MODEL.coefficients\n",
    "intercept = LR_MODEL.intercept\n",
    "\n",
    "print(\"The coeffcient of this model is:\", coef)\n",
    "print(\"The intercept of this model is:\", intercept)"
   ]
  },
  {
   "cell_type": "code",
   "execution_count": 71,
   "metadata": {},
   "outputs": [
    {
     "name": "stdout",
     "output_type": "stream",
     "text": [
      "+------------------------+---+--------------+---------+--------+--------------------+--------------+-------------+--------------------+------------------+\n",
      "|Income_per_Family_Member|Age|Employed_years|EDUCATION|FR_score|     Type_Occupation|Family_Members|Annual_income|            features|        prediction|\n",
      "+------------------------+---+--------------+---------+--------+--------------------+--------------+-------------+--------------------+------------------+\n",
      "|                 13500.0| 27|           2.2|      Low|       3|         Sales staff|             4|      54000.0|[13500.0,27.0,3.0...| 170719.4049565702|\n",
      "|                 14625.0| 39|          16.3|     High|       3|          Core staff|             4|      58500.0|[14625.0,39.0,3.0...|171694.24298430333|\n",
      "|                 16875.0| 33|           1.6|      Low|       3|         Sales staff|             4|      67500.0|[16875.0,33.0,3.0...|175219.49356602365|\n",
      "|                 19125.0| 40|           5.9|     High|       3|                  NA|             4|      76500.0|[19125.0,40.0,3.0...|178061.99518636725|\n",
      "|                 22500.0| 31|           4.6|      Low|       6|       Cooking staff|             3|      67500.0|[22500.0,31.0,6.0...| 136195.8001795684|\n",
      "|                 22500.0| 35|          10.1|      Low|       3|          Core staff|             5|     112500.0|[22500.0,35.0,3.0...| 243192.2721722488|\n",
      "|                 22500.0| 51|          11.3|      Low|       3|         Accountants|             3|      67500.0|[22500.0,51.0,3.0...|122247.01032464347|\n",
      "|                 24750.0| 65|             0|      Low|       1|                  NA|             2|      49500.0|[24750.0,65.0,1.0...| 56070.46228044458|\n",
      "|                 28125.0| 32|           3.6|      Low|       1|                  NA|             4|     112500.0|[28125.0,32.0,1.0...|182723.75320763153|\n",
      "|                 28125.0| 33|           2.5|      Low|       3|         Sales staff|             4|     112500.0|[28125.0,33.0,3.0...|191270.17194837128|\n",
      "|                 28125.0| 33|           2.5|      Low|       6|            Laborers|             4|     112500.0|[28125.0,33.0,6.0...|204168.57878579362|\n",
      "|                 28125.0| 35|           6.5|      Low|       3|            Laborers|             4|     112500.0|[28125.0,35.0,3.0...|191165.13364662102|\n",
      "|                 28125.0| 40|           0.3|     High|       4|             Drivers|             4|     112500.0|[28125.0,40.0,4.0...|195202.00683805277|\n",
      "|                 28125.0| 58|             0|      Low|       4|                  NA|             2|      56250.0|[28125.0,58.0,4.0...| 74151.70668869712|\n",
      "|                 30000.0| 28|           4.0|      Low|       1|            Laborers|             3|      90000.0|[30000.0,28.0,1.0...|125556.46515805509|\n",
      "|                 30000.0| 48|          22.0|      Low|       6|      Medicine staff|             3|      90000.0|[30000.0,48.0,6.0...| 146003.4268695896|\n",
      "|                 33000.0| 51|             0|      Low|       4|                  NA|             3|      99000.0|[33000.0,51.0,4.0...| 141527.1124273087|\n",
      "|                 33750.0| 55|          19.2|      Low|       1|         Sales staff|             2|      67500.0|[33750.0,55.0,1.0...| 69436.19649507404|\n",
      "|                 36000.0| 38|           7.7|      Low|       3|Private service s...|             4|     144000.0|[36000.0,38.0,3.0...|202243.05106163898|\n",
      "|                 36000.0| 41|           0.6|      Low|       4|      Medicine staff|             2|      72000.0|[36000.0,41.0,4.0...| 86280.00712121774|\n",
      "+------------------------+---+--------------+---------+--------+--------------------+--------------+-------------+--------------------+------------------+\n",
      "only showing top 20 rows\n",
      "\n"
     ]
    }
   ],
   "source": [
    "SLR_predictios = LR_MODEL.transform(test_data)\n",
    "\n",
    "SLR_predictios.show()"
   ]
  },
  {
   "cell_type": "code",
   "execution_count": 72,
   "metadata": {},
   "outputs": [
    {
     "data": {
      "application/vnd.microsoft.datawrangler.viewer.v0+json": {
       "columns": [
        {
         "name": "index",
         "rawType": "int64",
         "type": "integer"
        },
        {
         "name": "Income_per_Family_Member",
         "rawType": "float64",
         "type": "float"
        },
        {
         "name": "Age",
         "rawType": "int32",
         "type": "integer"
        },
        {
         "name": "Employed_years",
         "rawType": "object",
         "type": "string"
        },
        {
         "name": "EDUCATION",
         "rawType": "object",
         "type": "string"
        },
        {
         "name": "FR_score",
         "rawType": "int32",
         "type": "integer"
        },
        {
         "name": "Type_Occupation",
         "rawType": "object",
         "type": "string"
        },
        {
         "name": "Family_Members",
         "rawType": "int32",
         "type": "integer"
        },
        {
         "name": "Annual_income",
         "rawType": "float64",
         "type": "float"
        },
        {
         "name": "features",
         "rawType": "object",
         "type": "unknown"
        },
        {
         "name": "prediction",
         "rawType": "float64",
         "type": "float"
        }
       ],
       "conversionMethod": "pd.DataFrame",
       "ref": "fc4828e0-a458-48f6-b0aa-259a938fc876",
       "rows": [
        [
         "0",
         "13500.0",
         "27",
         "2.2",
         "Low",
         "3",
         "Sales staff",
         "4",
         "54000.0",
         "[13500.0,27.0,3.0,4.0]",
         "170719.4049565702"
        ],
        [
         "1",
         "14625.0",
         "39",
         "16.3",
         "High",
         "3",
         "Core staff",
         "4",
         "58500.0",
         "[14625.0,39.0,3.0,4.0]",
         "171694.24298430333"
        ],
        [
         "2",
         "16875.0",
         "33",
         "1.6",
         "Low",
         "3",
         "Sales staff",
         "4",
         "67500.0",
         "[16875.0,33.0,3.0,4.0]",
         "175219.49356602365"
        ],
        [
         "3",
         "19125.0",
         "40",
         "5.9",
         "High",
         "3",
         "NA",
         "4",
         "76500.0",
         "[19125.0,40.0,3.0,4.0]",
         "178061.99518636725"
        ],
        [
         "4",
         "22500.0",
         "31",
         "4.6",
         "Low",
         "6",
         "Cooking staff",
         "3",
         "67500.0",
         "[22500.0,31.0,6.0,3.0]",
         "136195.8001795684"
        ]
       ],
       "shape": {
        "columns": 10,
        "rows": 5
       }
      },
      "text/html": [
       "<div>\n",
       "<style scoped>\n",
       "    .dataframe tbody tr th:only-of-type {\n",
       "        vertical-align: middle;\n",
       "    }\n",
       "\n",
       "    .dataframe tbody tr th {\n",
       "        vertical-align: top;\n",
       "    }\n",
       "\n",
       "    .dataframe thead th {\n",
       "        text-align: right;\n",
       "    }\n",
       "</style>\n",
       "<table border=\"1\" class=\"dataframe\">\n",
       "  <thead>\n",
       "    <tr style=\"text-align: right;\">\n",
       "      <th></th>\n",
       "      <th>Income_per_Family_Member</th>\n",
       "      <th>Age</th>\n",
       "      <th>Employed_years</th>\n",
       "      <th>EDUCATION</th>\n",
       "      <th>FR_score</th>\n",
       "      <th>Type_Occupation</th>\n",
       "      <th>Family_Members</th>\n",
       "      <th>Annual_income</th>\n",
       "      <th>features</th>\n",
       "      <th>prediction</th>\n",
       "    </tr>\n",
       "  </thead>\n",
       "  <tbody>\n",
       "    <tr>\n",
       "      <th>0</th>\n",
       "      <td>13500.0</td>\n",
       "      <td>27</td>\n",
       "      <td>2.2</td>\n",
       "      <td>Low</td>\n",
       "      <td>3</td>\n",
       "      <td>Sales staff</td>\n",
       "      <td>4</td>\n",
       "      <td>54000.0</td>\n",
       "      <td>[13500.0, 27.0, 3.0, 4.0]</td>\n",
       "      <td>170719.404957</td>\n",
       "    </tr>\n",
       "    <tr>\n",
       "      <th>1</th>\n",
       "      <td>14625.0</td>\n",
       "      <td>39</td>\n",
       "      <td>16.3</td>\n",
       "      <td>High</td>\n",
       "      <td>3</td>\n",
       "      <td>Core staff</td>\n",
       "      <td>4</td>\n",
       "      <td>58500.0</td>\n",
       "      <td>[14625.0, 39.0, 3.0, 4.0]</td>\n",
       "      <td>171694.242984</td>\n",
       "    </tr>\n",
       "    <tr>\n",
       "      <th>2</th>\n",
       "      <td>16875.0</td>\n",
       "      <td>33</td>\n",
       "      <td>1.6</td>\n",
       "      <td>Low</td>\n",
       "      <td>3</td>\n",
       "      <td>Sales staff</td>\n",
       "      <td>4</td>\n",
       "      <td>67500.0</td>\n",
       "      <td>[16875.0, 33.0, 3.0, 4.0]</td>\n",
       "      <td>175219.493566</td>\n",
       "    </tr>\n",
       "    <tr>\n",
       "      <th>3</th>\n",
       "      <td>19125.0</td>\n",
       "      <td>40</td>\n",
       "      <td>5.9</td>\n",
       "      <td>High</td>\n",
       "      <td>3</td>\n",
       "      <td>NA</td>\n",
       "      <td>4</td>\n",
       "      <td>76500.0</td>\n",
       "      <td>[19125.0, 40.0, 3.0, 4.0]</td>\n",
       "      <td>178061.995186</td>\n",
       "    </tr>\n",
       "    <tr>\n",
       "      <th>4</th>\n",
       "      <td>22500.0</td>\n",
       "      <td>31</td>\n",
       "      <td>4.6</td>\n",
       "      <td>Low</td>\n",
       "      <td>6</td>\n",
       "      <td>Cooking staff</td>\n",
       "      <td>3</td>\n",
       "      <td>67500.0</td>\n",
       "      <td>[22500.0, 31.0, 6.0, 3.0]</td>\n",
       "      <td>136195.800180</td>\n",
       "    </tr>\n",
       "  </tbody>\n",
       "</table>\n",
       "</div>"
      ],
      "text/plain": [
       "   Income_per_Family_Member  Age Employed_years EDUCATION  FR_score  \\\n",
       "0                   13500.0   27            2.2       Low         3   \n",
       "1                   14625.0   39           16.3      High         3   \n",
       "2                   16875.0   33            1.6       Low         3   \n",
       "3                   19125.0   40            5.9      High         3   \n",
       "4                   22500.0   31            4.6       Low         6   \n",
       "\n",
       "  Type_Occupation  Family_Members  Annual_income                   features  \\\n",
       "0     Sales staff               4        54000.0  [13500.0, 27.0, 3.0, 4.0]   \n",
       "1      Core staff               4        58500.0  [14625.0, 39.0, 3.0, 4.0]   \n",
       "2     Sales staff               4        67500.0  [16875.0, 33.0, 3.0, 4.0]   \n",
       "3              NA               4        76500.0  [19125.0, 40.0, 3.0, 4.0]   \n",
       "4   Cooking staff               3        67500.0  [22500.0, 31.0, 6.0, 3.0]   \n",
       "\n",
       "      prediction  \n",
       "0  170719.404957  \n",
       "1  171694.242984  \n",
       "2  175219.493566  \n",
       "3  178061.995186  \n",
       "4  136195.800180  "
      ]
     },
     "execution_count": 72,
     "metadata": {},
     "output_type": "execute_result"
    }
   ],
   "source": [
    "slr_predictions_pd = SLR_predictios.toPandas()\n",
    "slr_predictions_pd.head()"
   ]
  },
  {
   "cell_type": "markdown",
   "metadata": {},
   "source": [
    "TRAIN THE MODEL USING THE INPUT VARIABLES TO PREDICT ANNUAL_INCOME"
   ]
  },
  {
   "cell_type": "code",
   "execution_count": 73,
   "metadata": {},
   "outputs": [
    {
     "data": {
      "image/png": "[encoded data removed]",
      "text/plain": [
       "<Figure size 1000x600 with 1 Axes>"
      ]
     },
     "metadata": {},
     "output_type": "display_data"
    }
   ],
   "source": [
    "import matplotlib.pyplot as plt\n",
    "\n",
    "slr_predictions_pd = SLR_predictios.select(\"Annual_income\", \"prediction\").toPandas()\n",
    "\n",
    "\n",
    "plt.figure(figsize=(10, 6))\n",
    "plt.scatter(slr_predictions_pd[\"Annual_income\"], slr_predictions_pd[\"prediction\"], alpha=0.5)\n",
    "plt.plot([slr_predictions_pd[\"Annual_income\"].min(), slr_predictions_pd[\"Annual_income\"].max()],\n",
    "         [slr_predictions_pd[\"Annual_income\"].min(), slr_predictions_pd[\"Annual_income\"].max()],\n",
    "         color='red', lw=2)\n",
    "plt.xlabel(\"Actual Annual Income\")\n",
    "plt.ylabel(\"Predicted Annual Income\")\n",
    "plt.title(\"Actual vs Predicted Annual Income\")\n",
    "plt.show()"
   ]
  },
  {
   "cell_type": "markdown",
   "metadata": {},
   "source": [
    "RANDOM FORREST REGRESSOR"
   ]
  },
  {
   "cell_type": "code",
   "execution_count": 74,
   "metadata": {},
   "outputs": [
    {
     "name": "stdout",
     "output_type": "stream",
     "text": [
      "+------------------------+---+--------------+---------+--------+--------------------+--------------+-------------+--------------------+------------------+\n",
      "|Income_per_Family_Member|Age|Employed_years|EDUCATION|FR_score|     Type_Occupation|Family_Members|Annual_income|            features|        prediction|\n",
      "+------------------------+---+--------------+---------+--------+--------------------+--------------+-------------+--------------------+------------------+\n",
      "|                 13500.0| 27|           2.2|      Low|       3|         Sales staff|             4|      54000.0|[13500.0,27.0,3.0...|127289.31161044445|\n",
      "|                 14625.0| 39|          16.3|     High|       3|          Core staff|             4|      58500.0|[14625.0,39.0,3.0...|128828.40608821352|\n",
      "|                 16875.0| 33|           1.6|      Low|       3|         Sales staff|             4|      67500.0|[16875.0,33.0,3.0...|130799.42059085198|\n",
      "|                 19125.0| 40|           5.9|     High|       3|                  NA|             4|      76500.0|[19125.0,40.0,3.0...|129611.16545368699|\n",
      "|                 22500.0| 31|           4.6|      Low|       6|       Cooking staff|             3|      67500.0|[22500.0,31.0,6.0...|129332.19242111057|\n",
      "|                 22500.0| 35|          10.1|      Low|       3|          Core staff|             5|     112500.0|[22500.0,35.0,3.0...|126338.42064478842|\n",
      "|                 22500.0| 51|          11.3|      Low|       3|         Accountants|             3|      67500.0|[22500.0,51.0,3.0...|107177.22823022949|\n",
      "|                 24750.0| 65|             0|      Low|       1|                  NA|             2|      49500.0|[24750.0,65.0,1.0...| 85733.84696457155|\n",
      "|                 28125.0| 32|           3.6|      Low|       1|                  NA|             4|     112500.0|[28125.0,32.0,1.0...|130079.06180132565|\n",
      "|                 28125.0| 33|           2.5|      Low|       3|         Sales staff|             4|     112500.0|[28125.0,33.0,3.0...|130799.42059085198|\n",
      "|                 28125.0| 33|           2.5|      Low|       6|            Laborers|             4|     112500.0|[28125.0,33.0,6.0...|153782.28684393055|\n",
      "|                 28125.0| 35|           6.5|      Low|       3|            Laborers|             4|     112500.0|[28125.0,35.0,3.0...|129664.11054198662|\n",
      "|                 28125.0| 40|           0.3|     High|       4|             Drivers|             4|     112500.0|[28125.0,40.0,4.0...|147971.32120877958|\n",
      "|                 28125.0| 58|             0|      Low|       4|                  NA|             2|      56250.0|[28125.0,58.0,4.0...| 96686.15588294782|\n",
      "|                 30000.0| 28|           4.0|      Low|       1|            Laborers|             3|      90000.0|[30000.0,28.0,1.0...|120222.22283359179|\n",
      "|                 30000.0| 48|          22.0|      Low|       6|      Medicine staff|             3|      90000.0|[30000.0,48.0,6.0...|136596.41641215325|\n",
      "|                 33000.0| 51|             0|      Low|       4|                  NA|             3|      99000.0|[33000.0,51.0,4.0...|128613.92989283967|\n",
      "|                 33750.0| 55|          19.2|      Low|       1|         Sales staff|             2|      67500.0|[33750.0,55.0,1.0...| 96557.13522801742|\n",
      "|                 36000.0| 38|           7.7|      Low|       3|Private service s...|             4|     144000.0|[36000.0,38.0,3.0...| 146841.9384901686|\n",
      "|                 36000.0| 41|           0.6|      Low|       4|      Medicine staff|             2|      72000.0|[36000.0,41.0,4.0...|118783.37664192611|\n",
      "+------------------------+---+--------------+---------+--------+--------------------+--------------+-------------+--------------------+------------------+\n",
      "only showing top 20 rows\n",
      "\n"
     ]
    }
   ],
   "source": [
    "rf = RandomForestRegressor(featuresCol=\"features\", labelCol=\"Annual_income\", numTrees=100, maxDepth=5)\n",
    "\n",
    "RF_MODEL = rf.fit(train_data)\n",
    "\n",
    "rf_predictions = RF_MODEL.transform(test_data) # Make predictions\n",
    "\n",
    "rf_predictions.show()\n"
   ]
  },
  {
   "cell_type": "code",
   "execution_count": 75,
   "metadata": {},
   "outputs": [
    {
     "data": {
      "image/png": "[encoded data removed]",
      "text/plain": [
       "<Figure size 1000x600 with 1 Axes>"
      ]
     },
     "metadata": {},
     "output_type": "display_data"
    }
   ],
   "source": [
    "rf_predictions_pd = rf_predictions.select(\"Annual_income\", \"prediction\").toPandas()\n",
    "\n",
    "# Plot the actual vs predicted values\n",
    "plt.figure(figsize=(10, 6))\n",
    "plt.scatter(rf_predictions_pd[\"Annual_income\"], rf_predictions_pd[\"prediction\"], alpha=0.5)\n",
    "plt.plot([rf_predictions_pd[\"Annual_income\"].min(), rf_predictions_pd[\"Annual_income\"].max()],\n",
    "         [rf_predictions_pd[\"Annual_income\"].min(), rf_predictions_pd[\"Annual_income\"].max()],\n",
    "         color='red', lw=2)\n",
    "plt.xlabel(\"Actual Annual Income\")\n",
    "plt.ylabel(\"Predicted Annual Income\")\n",
    "plt.title(\"Actual vs Predicted Annual Income (Random Forest)\")\n",
    "plt.show()"
   ]
  },
  {
   "cell_type": "markdown",
   "metadata": {},
   "source": [
    "EVALUATE THE MODEL"
   ]
  },
  {
   "cell_type": "markdown",
   "metadata": {},
   "source": [
    "rrot mean squared to Simple linear regression"
   ]
  },
  {
   "cell_type": "code",
   "execution_count": 76,
   "metadata": {},
   "outputs": [
    {
     "name": "stdout",
     "output_type": "stream",
     "text": [
      "Root Mean Squared Error (RMSE) on test data for Simple Linear Regression = 55527.11877933004\n"
     ]
    }
   ],
   "source": [
    "slr_evaluator = RegressionEvaluator(labelCol=\"Annual_income\", predictionCol=\"prediction\", metricName=\"rmse\")\n",
    "\n",
    "slr_rmse = slr_evaluator.evaluate(SLR_predictios)\n",
    "\n",
    "print(f\"Root Mean Squared Error (RMSE) on test data for Simple Linear Regression = {slr_rmse}\")"
   ]
  },
  {
   "cell_type": "markdown",
   "metadata": {},
   "source": [
    "rrot mean squared to forest regression"
   ]
  },
  {
   "cell_type": "code",
   "execution_count": 77,
   "metadata": {},
   "outputs": [
    {
     "name": "stdout",
     "output_type": "stream",
     "text": [
      "Root Mean Squared Error (RMSE) on test data = 51862.482396305306\n"
     ]
    }
   ],
   "source": [
    "evaluator = RegressionEvaluator(labelCol=\"Annual_income\", predictionCol=\"prediction\", metricName=\"rmse\")\n",
    "\n",
    "rmse = evaluator.evaluate(rf_predictions)\n",
    "\n",
    "print(f\"Root Mean Squared Error (RMSE) on test data = {rmse}\")"
   ]
  },
  {
   "cell_type": "markdown",
   "metadata": {},
   "source": [
    "# Evaluate the Random Forest model using R-squared\n"
   ]
  },
  {
   "cell_type": "code",
   "execution_count": 78,
   "metadata": {},
   "outputs": [
    {
     "name": "stdout",
     "output_type": "stream",
     "text": [
      "R-squared (R2) on test data = 0.82665069845662\n"
     ]
    }
   ],
   "source": [
    "r2_evaluator = RegressionEvaluator(labelCol=\"Annual_income\", predictionCol=\"prediction\", metricName=\"r2\")\n",
    "\n",
    "r2 = r2_evaluator.evaluate(rf_predictions)\n",
    "\n",
    "print(f\"R-squared (R2) on test data = {r2}\")"
   ]
  },
  {
   "cell_type": "markdown",
   "metadata": {},
   "source": [
    "# Evaluate the Simple Linear Regression model using R-squared\n"
   ]
  },
  {
   "cell_type": "code",
   "execution_count": 79,
   "metadata": {},
   "outputs": [
    {
     "name": "stdout",
     "output_type": "stream",
     "text": [
      "R-squared (R2) on test data for Simple Linear Regression = 0.801287231709326\n"
     ]
    }
   ],
   "source": [
    "slr_r2_evaluator = RegressionEvaluator(labelCol=\"Annual_income\", predictionCol=\"prediction\", metricName=\"r2\")\n",
    "\n",
    "slr_r2 = slr_r2_evaluator.evaluate(SLR_predictios)\n",
    "\n",
    "print(f\"R-squared (R2) on test data for Simple Linear Regression = {slr_r2}\")"
   ]
  },
  {
   "cell_type": "markdown",
   "metadata": {},
   "source": [
    "6. Hyperparameter Tuning:"
   ]
  },
  {
   "cell_type": "code",
   "execution_count": 80,
   "metadata": {},
   "outputs": [
    {
     "name": "stdout",
     "output_type": "stream",
     "text": [
      "Cross-Validated Root Mean Squared Error (RMSE) on test data = 55527.2040124841\n",
      "Cross-Validated R-squared (R2) on test data = 0.8012866216676252\n"
     ]
    }
   ],
   "source": [
    "paramGrid = ParamGridBuilder() \\\n",
    "    .addGrid(SLR.regParam, [0.01, 0.1, 0.5]) \\\n",
    "    .addGrid(SLR.elasticNetParam, [0.0, 0.5, 1.0]) \\\n",
    "    .build()\n",
    "\n",
    "# Define the evaluator\n",
    "evaluator = RegressionEvaluator(labelCol=\"Annual_income\", predictionCol=\"prediction\", metricName=\"rmse\")\n",
    "\n",
    "# Create the CrossValidator\n",
    "crossval = CrossValidator(estimator=SLR,\n",
    "                          estimatorParamMaps=paramGrid,\n",
    "                          evaluator=evaluator,\n",
    "                          numFolds=5)  # Use 5-fold cross-validation\n",
    "\n",
    "# Run cross-validation, and choose the best set of parameters.\n",
    "cvModel = crossval.fit(train_data)\n",
    "\n",
    "# Make predictions on the test data\n",
    "cv_predictions = cvModel.transform(test_data)\n",
    "\n",
    "# Evaluate the model\n",
    "cv_rmse = evaluator.evaluate(cv_predictions)\n",
    "cv_r2 = evaluator.evaluate(cv_predictions, {evaluator.metricName: \"r2\"})\n",
    "\n",
    "print(f\"Cross-Validated Root Mean Squared Error (RMSE) on test data = {cv_rmse}\")\n",
    "print(f\"Cross-Validated R-squared (R2) on test data = {cv_r2}\")"
   ]
  }
 ],
 "metadata": {
  "kernelspec": {
   "display_name": "Python 3",
   "language": "python",
   "name": "python3"
  },
  "language_info": {
   "codemirror_mode": {
    "name": "ipython",
    "version": 3
   },
   "file_extension": ".py",
   "mimetype": "text/x-python",
   "name": "python",
   "nbconvert_exporter": "python",
   "pygments_lexer": "ipython3",
   "version": "3.11.0"
  }
 },
 "nbformat": 4,
 "nbformat_minor": 2
}
